{
 "cells": [
  {
   "cell_type": "markdown",
   "metadata": {},
   "source": [
    "# Imports"
   ]
  },
  {
   "cell_type": "code",
   "execution_count": 1,
   "metadata": {},
   "outputs": [
    {
     "data": {
      "text/plain": [
       "True"
      ]
     },
     "execution_count": 1,
     "metadata": {},
     "output_type": "execute_result"
    }
   ],
   "source": [
    "import pandas as pd\n",
    "import numpy as np\n",
    "import seaborn as sns\n",
    "import matplotlib.pyplot as plt\n",
    "import plotly.express as px\n",
    "import json\n",
    "import os\n",
    "import plotly.graph_objs as go\n",
    "import chart_studio.plotly as py\n",
    "import chart_studio.tools\n",
    "from scipy.stats import chi2_contingency\n",
    "from itertools import product\n",
    "from sklearn.model_selection import train_test_split\n",
    "from sklearn.ensemble import RandomForestClassifier\n",
    "from sklearn.preprocessing import MinMaxScaler\n",
    "from sklearn.linear_model import LogisticRegression\n",
    "from sklearn.metrics import accuracy_score, classification_report\n",
    "from statsmodels.stats.proportion import proportions_ztest\n",
    "from dotenv import load_dotenv\n",
    "load_dotenv()"
   ]
  },
  {
   "cell_type": "code",
   "execution_count": 2,
   "metadata": {},
   "outputs": [],
   "source": [
    "chart_studio.tools.set_credentials_file(username='', api_key='')"
   ]
  },
  {
   "cell_type": "markdown",
   "metadata": {},
   "source": [
    "# Datasets"
   ]
  },
  {
   "cell_type": "code",
   "execution_count": 3,
   "metadata": {},
   "outputs": [],
   "source": [
    "## Note 1.\n",
    "hiefData = \\\n",
    "    pd.read_csv(r'..\\data\\hiefData.csv', comment='#')\n",
    "usVeteransFKBP5 = \\\n",
    "    pd.read_csv(r'..\\data\\usVeteransFKBP5.csv', comment='#')\n",
    "ptsdWorldMentalHealthSurvey = \\\n",
    "    pd.read_csv(r'..\\data\\ptsdWorldMentalHealthSurvey.csv', comment='#')\n",
    "healthCarePriceIndex = \\\n",
    "    pd.read_csv(r'..\\data\\healthCarePriceIndex.csv', comment='#')\n",
    "## Note 2.\n",
    "rs1360780Data = \\\n",
    "    pd.read_csv(r'..\\data\\rs1360780_frequency.tsv', sep='\\t', \n",
    "                skiprows=12, header=0).drop(columns=['#Study'])\n",
    "rs3800373Data = \\\n",
    "    pd.read_csv(r'..\\data\\rs3800373_frequency.tsv', sep='\\t',\n",
    "                skiprows=12, header=0).drop(columns=['#Study'])\n",
    "rs9296158Data = \\\n",
    "    pd.read_csv(r'..\\data\\rs9296158_frequency.tsv', sep='\\t',\n",
    "                skiprows=12, header=0).drop(columns=['#Study'])\n",
    "rs9470080Data = \\\n",
    "    pd.read_csv(r'..\\data\\rs9470080_frequency.tsv', sep='\\t',\n",
    "                skiprows=12, header=0).drop(columns=['#Study'])\n",
    "## Note 3.\n",
    "WorldValuesSurveyData = \\\n",
    "    pd.read_csv(r'..\\data\\WVS_Cross-National_Wave_7_inverted_csv_v6_0.csv', \n",
    "                low_memory=False).fillna(0)\n",
    "healthCareQuality = pd.read_csv(r'..\\data\\healthCareQuality.csv', comment='#')"
   ]
  },
  {
   "cell_type": "markdown",
   "metadata": {},
   "source": [
    "# Applied Analysis"
   ]
  },
  {
   "cell_type": "markdown",
   "metadata": {},
   "source": [
    "## Analysis Objects"
   ]
  },
  {
   "cell_type": "markdown",
   "metadata": {},
   "source": [
    "### Countryparser"
   ]
  },
  {
   "cell_type": "code",
   "execution_count": 4,
   "metadata": {},
   "outputs": [],
   "source": [
    "class Countryparser:\n",
    "    \n",
    "    countryScope = {\n",
    "        \"COL\": [\"Colombia\", \"Colombia (Medellin)\"],\n",
    "        \"IRQ\": [\"Iraq\"],\n",
    "        \"PER\": [\"Peru\"],\n",
    "        \"CHN\": [\"PRC China\", \"China\"],\n",
    "        \"UKR\": [\"Ukraine\"],\n",
    "        \"BRA\": [\"Brazil\"],\n",
    "        \"BGR\": [\"Bulgaria\"],\n",
    "        \"MEX\": [\"Mexico\"],\n",
    "        \"ROU\": [\"Romania\"],\n",
    "        \"ZAF\": [\"South Africa\"],\n",
    "        \"AUS\": [\"Australia\"],\n",
    "        \"BEL\": [\"Belgium\"],\n",
    "        \"DEU\": [\"Germany\", \"German Federal Republic\"],\n",
    "        \"ISR\": [\"Israel\"],\n",
    "        \"ITA\": [\"Italy\"],\n",
    "        \"JPN\": [\"Japan\"],\n",
    "        \"NZL\": [\"New Zealand\"],\n",
    "        \"GBR\": [\"United Kingdom\", \"Northern Ireland\"],\n",
    "        \"PRT\": [\"Portugal\"],\n",
    "        \"ESP\": [\"Spain\", \"Spain (Murcia)\"],\n",
    "        \"NLD\": [\"The Netherlands\", \"Netherlands\"],\n",
    "        \"USA\": [\"The USA\", \"USA\", \"United States of America\", \"United States\"],\n",
    "        \"FRA\": [\"France\"]\n",
    "    }\n",
    "\n",
    "    def standardizeCountryNames(data_Frame, country_Col, countryScope):\n",
    "        # Creating an empty dictionary who's key is the country name, and who's value is the corresponding ISO code.\n",
    "        standardizedCountries = {}\n",
    "        # This loops through each key-value pair in the country_scope dictionary. iso_code is the key (the ISO country code), and names is the value (a list of country names).\n",
    "        for iso_Code, names in countryScope.items():\n",
    "            for name in names:\n",
    "                standardizedCountries[name] = iso_Code\n",
    "        # This maps the country names in the specified column of the DataFrame to their corresponding ISO codes using the standardized_countries dictionary.\n",
    "        # The .fillna() method in this this case ensures that any country name not found in the countryScope remains unchanged.\n",
    "        data_Frame[country_Col] = data_Frame[country_Col].map(\n",
    "            standardizedCountries).fillna(data_Frame[country_Col])\n",
    "        return data_Frame"
   ]
  },
  {
   "cell_type": "markdown",
   "metadata": {},
   "source": [
    "### Bioparser"
   ]
  },
  {
   "cell_type": "code",
   "execution_count": 5,
   "metadata": {},
   "outputs": [],
   "source": [
    "class Bioparser:\n",
    "\n",
    "    @staticmethod\n",
    "    def splitAlleleToDict(data_frame: pd.DataFrame, df_name: str) -> dict:\n",
    "        def splitAllele(allele):\n",
    "            try:\n",
    "                letter, value = allele.split('=', 1)\n",
    "                return letter, float(value)\n",
    "            except ValueError:\n",
    "                return allele, None  # Handle unexpected formats\n",
    "        # Check if 'Ref Allele' and 'Alt Allele' columns exist\n",
    "        if 'Ref Allele' not in data_frame.columns or 'Alt Allele' not in data_frame.columns:\n",
    "            raise KeyError(\n",
    "                \"'Ref Allele' or 'Alt Allele' column not found in the DataFrame\")\n",
    "        # Apply the function to split 'Ref Allele' and 'Alt Allele'\n",
    "        data_frame[['Ref Allele Letter', 'Ref Allele Value']\n",
    "                   ] = data_frame['Ref Allele'].apply(splitAllele).tolist()\n",
    "        data_frame[['Alt Allele Letter', 'Alt Allele Value']\n",
    "                   ] = data_frame['Alt Allele'].apply(splitAllele).tolist()\n",
    "        # Drop the original 'Ref Allele' and 'Alt Allele' columns\n",
    "        data_frame = data_frame.drop(columns=['Ref Allele', 'Alt Allele'])\n",
    "        # Initialize the dictionary\n",
    "        populationAlleleFrequency = {}\n",
    "        # Group by 'Population' and calculate the mean of 'Ref Allele Value' and 'Alt Allele Value'\n",
    "        allele_grouped = data_frame.groupby(['Population']).agg({\n",
    "            'Ref Allele Value': 'mean',\n",
    "            'Alt Allele Value': 'mean'\n",
    "        }).reset_index()\n",
    "        # Populate the dictionary with the required frequencies and HWE predictions\n",
    "        for _, row in allele_grouped.iterrows():\n",
    "            population = row['Population']\n",
    "            p = row['Ref Allele Value']\n",
    "            q = row['Alt Allele Value']\n",
    "            if pd.notna(p) and pd.notna(q):\n",
    "                ref_ref = p ** 2\n",
    "                alt_alt = q ** 2\n",
    "                ref_alt = 2 * p * q\n",
    "                populationAlleleFrequency[population] = {\n",
    "                    'Ref/Ref': ref_ref,\n",
    "                    'Alt/Alt': alt_alt,\n",
    "                    'Ref/Alt': ref_alt\n",
    "                }\n",
    "        # Determine the dictionary name dynamically based on the provided DataFrame name\n",
    "        dict_name = df_name + \"PopulationAlleleFrequency\"\n",
    "        return {dict_name: populationAlleleFrequency}"
   ]
  },
  {
   "cell_type": "markdown",
   "metadata": {},
   "source": [
    "### FKBP5Processor"
   ]
  },
  {
   "cell_type": "code",
   "execution_count": 6,
   "metadata": {},
   "outputs": [],
   "source": [
    "class FKBP5Processor:\n",
    "    def __init__(self, df):\n",
    "        self.df = df\n",
    "\n",
    "    def extract_frequencies(self):\n",
    "        for col in ['1:1', '1:2', '2:2']:\n",
    "            self.df[f'Frequency {col}'] = self.df[col].str.extract(\n",
    "                r'\\((\\d+\\.\\d+)\\)').astype(float)\n",
    "        return self.df\n",
    "\n",
    "    def add_snp_labels(self):\n",
    "        for col in ['1:1', '1:2', '2:2']:\n",
    "            self.df[f'SNP_{col}'] = self.df['SNP'] + f' {col}'\n",
    "        return self.df\n",
    "\n",
    "    def process(self):\n",
    "        self.extract_frequencies()\n",
    "        self.add_snp_labels()\n",
    "        return self.df"
   ]
  },
  {
   "cell_type": "markdown",
   "metadata": {},
   "source": [
    "### PTSD & Trauma Prevalence Plot"
   ]
  },
  {
   "cell_type": "code",
   "execution_count": 7,
   "metadata": {},
   "outputs": [
    {
     "data": {
      "application/vnd.plotly.v1+json": {
       "config": {
        "plotlyServerURL": "https://plotly.com"
       },
       "data": [
        {
         "colorscale": [
          [
           0,
           "#66c2a5"
          ],
          [
           1,
           "#66c2a5"
          ]
         ],
         "customdata": [
          [
           0.3,
           52.5
          ],
          [
           1.9,
           28.6
          ],
          [
           1.2,
           41.5
          ],
          [
           2.2,
           54
          ],
          [
           2.4,
           48.7
          ]
         ],
         "geo": "geo",
         "hovertemplate": "<b>%{hovertext}</b><br><br>Combined Category=Low Trauma-Low PTSD<br>Country=%{location}<br>Lifetime prevalence of PTSD in total sample (%)=%{customdata[0]}<br>Trauma exposure (%)=%{customdata[1]}<extra></extra>",
         "hovertext": [
          "CHN",
          "BGR",
          "ROU",
          "ESP",
          "Eastern European Region"
         ],
         "locations": [
          "CHN",
          "BGR",
          "ROU",
          "ESP",
          "Eastern European Region"
         ],
         "name": "Low Trauma-Low PTSD",
         "showlegend": true,
         "showscale": false,
         "type": "choropleth",
         "z": [
          1,
          1,
          1,
          1,
          1
         ]
        },
        {
         "colorscale": [
          [
           0,
           "#fee08b"
          ],
          [
           1,
           "#fee08b"
          ]
         ],
         "customdata": [
          [
           2.1,
           69.1
          ],
          [
           2.5,
           56
          ],
          [
           2.3,
           63.2
          ],
          [
           1.5,
           68.8
          ],
          [
           2.7,
           65.8
          ],
          [
           1.7,
           67.3
          ],
          [
           2.4,
           56.1
          ],
          [
           1.3,
           60.7
          ],
          [
           2.1,
           67.5
          ]
         ],
         "geo": "geo",
         "hovertemplate": "<b>%{hovertext}</b><br><br>Combined Category=Moderate Trauma-Low PTSD<br>Country=%{location}<br>Lifetime prevalence of PTSD in total sample (%)=%{customdata[0]}<br>Trauma exposure (%)=%{customdata[1]}<extra></extra>",
         "hovertext": [
          "Low-lower middle income countries",
          "IRQ",
          "Upper-middle income countries",
          "MEX",
          "BEL",
          "DEU",
          "ITA",
          "JPN",
          "Eastern Mediterranean Region"
         ],
         "locations": [
          "Low-lower middle income countries",
          "IRQ",
          "Upper-middle income countries",
          "MEX",
          "BEL",
          "DEU",
          "ITA",
          "JPN",
          "Eastern Mediterranean Region"
         ],
         "name": "Moderate Trauma-Low PTSD",
         "showlegend": true,
         "showscale": false,
         "type": "choropleth",
         "z": [
          1,
          1,
          1,
          1,
          1,
          1,
          1,
          1,
          1
         ]
        },
        {
         "colorscale": [
          [
           0,
           "#f37726"
          ],
          [
           1,
           "#f37726"
          ]
         ],
         "customdata": [
          [
           5.3,
           69
          ],
          [
           2.8,
           62.4
          ],
          [
           4.4,
           65.6
          ],
          [
           3.9,
           69.7
          ],
          [
           4,
           63
          ]
         ],
         "geo": "geo",
         "hovertemplate": "<b>%{hovertext}</b><br><br>Combined Category=Moderate Trauma-Moderate PTSD<br>Country=%{location}<br>Lifetime prevalence of PTSD in total sample (%)=%{customdata[0]}<br>Trauma exposure (%)=%{customdata[1]}<extra></extra>",
         "hovertext": [
          "PRT",
          "ESP",
          "NLD",
          "All countries combined",
          "Western European Region"
         ],
         "locations": [
          "PRT",
          "ESP",
          "NLD",
          "All countries combined",
          "Western European Region"
         ],
         "name": "Moderate Trauma-Moderate PTSD",
         "showlegend": true,
         "showscale": false,
         "type": "choropleth",
         "z": [
          1,
          1,
          1,
          1,
          1
         ]
        },
        {
         "colorscale": [
          [
           0,
           "#5e7787"
          ],
          [
           1,
           "#5e7787"
          ]
         ],
         "customdata": [
          [
           8.8,
           60.6
          ]
         ],
         "geo": "geo",
         "hovertemplate": "<b>%{hovertext}</b><br><br>Combined Category=Moderate Trauma-High PTSD<br>Country=%{location}<br>Lifetime prevalence of PTSD in total sample (%)=%{customdata[0]}<br>Trauma exposure (%)=%{customdata[1]}<extra></extra>",
         "hovertext": [
          "GBR"
         ],
         "locations": [
          "GBR"
         ],
         "name": "Moderate Trauma-High PTSD",
         "showlegend": true,
         "showscale": false,
         "type": "choropleth",
         "z": [
          1
         ]
        },
        {
         "colorscale": [
          [
           0,
           "#156794"
          ],
          [
           1,
           "#156794"
          ]
         ],
         "customdata": [
          [
           1.8,
           82.7
          ],
          [
           0.7,
           83.1
          ],
          [
           2.3,
           73.8
          ],
          [
           1.6,
           74.8
          ],
          [
           2.3,
           73.8
          ]
         ],
         "geo": "geo",
         "hovertemplate": "<b>%{hovertext}</b><br><br>Combined Category=High Trauma-Low PTSD<br>Country=%{location}<br>Lifetime prevalence of PTSD in total sample (%)=%{customdata[0]}<br>Trauma exposure (%)=%{customdata[1]}<extra></extra>",
         "hovertext": [
          "COL",
          "PER",
          "ZAF",
          "ISR",
          "African Region"
         ],
         "locations": [
          "COL",
          "PER",
          "ZAF",
          "ISR",
          "African Region"
         ],
         "name": "High Trauma-Low PTSD",
         "showlegend": true,
         "showscale": false,
         "type": "choropleth",
         "z": [
          1,
          1,
          1,
          1,
          1
         ]
        },
        {
         "colorscale": [
          [
           0,
           "#ca431b"
          ],
          [
           1,
           "#ca431b"
          ]
         ],
         "customdata": [
          [
           4.8,
           84.6
          ],
          [
           3.2,
           73.8
          ],
          [
           3.7,
           75.1
          ],
          [
           3.4,
           81.1
          ],
          [
           5,
           72.4
          ],
          [
           3.9,
           72.7
          ],
          [
           3.8,
           78.5
          ]
         ],
         "geo": "geo",
         "hovertemplate": "<b>%{hovertext}</b><br><br>Combined Category=High Trauma-Moderate PTSD<br>Country=%{location}<br>Lifetime prevalence of PTSD in total sample (%)=%{customdata[0]}<br>Trauma exposure (%)=%{customdata[1]}<extra></extra>",
         "hovertext": [
          "UKR",
          "BRA",
          "COL",
          "Lebanon",
          "High income countries",
          "FRA",
          "Region of the Americas"
         ],
         "locations": [
          "UKR",
          "BRA",
          "COL",
          "Lebanon",
          "High income countries",
          "FRA",
          "Region of the Americas"
         ],
         "name": "High Trauma-Moderate PTSD",
         "showlegend": true,
         "showscale": false,
         "type": "choropleth",
         "z": [
          1,
          1,
          1,
          1,
          1,
          1,
          1
         ]
        },
        {
         "colorscale": [
          [
           0,
           "#b20000"
          ],
          [
           1,
           "#b20000"
          ]
         ],
         "customdata": [
          [
           7.3,
           76.2
          ],
          [
           6.1,
           79.3
          ],
          [
           6.9,
           82.7
          ],
          [
           5.7,
           74
          ]
         ],
         "geo": "geo",
         "hovertemplate": "<b>%{hovertext}</b><br><br>Combined Category=High Trauma-High PTSD<br>Country=%{location}<br>Lifetime prevalence of PTSD in total sample (%)=%{customdata[0]}<br>Trauma exposure (%)=%{customdata[1]}<extra></extra>",
         "hovertext": [
          "AUS",
          "NZL",
          "USA",
          "Western Pacific Region"
         ],
         "locations": [
          "AUS",
          "NZL",
          "USA",
          "Western Pacific Region"
         ],
         "name": "High Trauma-High PTSD",
         "showlegend": true,
         "showscale": false,
         "type": "choropleth",
         "z": [
          1,
          1,
          1,
          1
         ]
        }
       ],
       "layout": {
        "geo": {
         "center": {},
         "domain": {
          "x": [
           0,
           1
          ],
          "y": [
           0,
           1
          ]
         },
         "projection": {
          "type": "orthographic"
         }
        },
        "legend": {
         "title": {
          "text": "Combined Category"
         },
         "tracegroupgap": 0
        },
        "template": {
         "data": {
          "bar": [
           {
            "error_x": {
             "color": "#2a3f5f"
            },
            "error_y": {
             "color": "#2a3f5f"
            },
            "marker": {
             "line": {
              "color": "#E5ECF6",
              "width": 0.5
             },
             "pattern": {
              "fillmode": "overlay",
              "size": 10,
              "solidity": 0.2
             }
            },
            "type": "bar"
           }
          ],
          "barpolar": [
           {
            "marker": {
             "line": {
              "color": "#E5ECF6",
              "width": 0.5
             },
             "pattern": {
              "fillmode": "overlay",
              "size": 10,
              "solidity": 0.2
             }
            },
            "type": "barpolar"
           }
          ],
          "carpet": [
           {
            "aaxis": {
             "endlinecolor": "#2a3f5f",
             "gridcolor": "white",
             "linecolor": "white",
             "minorgridcolor": "white",
             "startlinecolor": "#2a3f5f"
            },
            "baxis": {
             "endlinecolor": "#2a3f5f",
             "gridcolor": "white",
             "linecolor": "white",
             "minorgridcolor": "white",
             "startlinecolor": "#2a3f5f"
            },
            "type": "carpet"
           }
          ],
          "choropleth": [
           {
            "colorbar": {
             "outlinewidth": 0,
             "ticks": ""
            },
            "type": "choropleth"
           }
          ],
          "contour": [
           {
            "colorbar": {
             "outlinewidth": 0,
             "ticks": ""
            },
            "colorscale": [
             [
              0,
              "#0d0887"
             ],
             [
              0.1111111111111111,
              "#46039f"
             ],
             [
              0.2222222222222222,
              "#7201a8"
             ],
             [
              0.3333333333333333,
              "#9c179e"
             ],
             [
              0.4444444444444444,
              "#bd3786"
             ],
             [
              0.5555555555555556,
              "#d8576b"
             ],
             [
              0.6666666666666666,
              "#ed7953"
             ],
             [
              0.7777777777777778,
              "#fb9f3a"
             ],
             [
              0.8888888888888888,
              "#fdca26"
             ],
             [
              1,
              "#f0f921"
             ]
            ],
            "type": "contour"
           }
          ],
          "contourcarpet": [
           {
            "colorbar": {
             "outlinewidth": 0,
             "ticks": ""
            },
            "type": "contourcarpet"
           }
          ],
          "heatmap": [
           {
            "colorbar": {
             "outlinewidth": 0,
             "ticks": ""
            },
            "colorscale": [
             [
              0,
              "#0d0887"
             ],
             [
              0.1111111111111111,
              "#46039f"
             ],
             [
              0.2222222222222222,
              "#7201a8"
             ],
             [
              0.3333333333333333,
              "#9c179e"
             ],
             [
              0.4444444444444444,
              "#bd3786"
             ],
             [
              0.5555555555555556,
              "#d8576b"
             ],
             [
              0.6666666666666666,
              "#ed7953"
             ],
             [
              0.7777777777777778,
              "#fb9f3a"
             ],
             [
              0.8888888888888888,
              "#fdca26"
             ],
             [
              1,
              "#f0f921"
             ]
            ],
            "type": "heatmap"
           }
          ],
          "heatmapgl": [
           {
            "colorbar": {
             "outlinewidth": 0,
             "ticks": ""
            },
            "colorscale": [
             [
              0,
              "#0d0887"
             ],
             [
              0.1111111111111111,
              "#46039f"
             ],
             [
              0.2222222222222222,
              "#7201a8"
             ],
             [
              0.3333333333333333,
              "#9c179e"
             ],
             [
              0.4444444444444444,
              "#bd3786"
             ],
             [
              0.5555555555555556,
              "#d8576b"
             ],
             [
              0.6666666666666666,
              "#ed7953"
             ],
             [
              0.7777777777777778,
              "#fb9f3a"
             ],
             [
              0.8888888888888888,
              "#fdca26"
             ],
             [
              1,
              "#f0f921"
             ]
            ],
            "type": "heatmapgl"
           }
          ],
          "histogram": [
           {
            "marker": {
             "pattern": {
              "fillmode": "overlay",
              "size": 10,
              "solidity": 0.2
             }
            },
            "type": "histogram"
           }
          ],
          "histogram2d": [
           {
            "colorbar": {
             "outlinewidth": 0,
             "ticks": ""
            },
            "colorscale": [
             [
              0,
              "#0d0887"
             ],
             [
              0.1111111111111111,
              "#46039f"
             ],
             [
              0.2222222222222222,
              "#7201a8"
             ],
             [
              0.3333333333333333,
              "#9c179e"
             ],
             [
              0.4444444444444444,
              "#bd3786"
             ],
             [
              0.5555555555555556,
              "#d8576b"
             ],
             [
              0.6666666666666666,
              "#ed7953"
             ],
             [
              0.7777777777777778,
              "#fb9f3a"
             ],
             [
              0.8888888888888888,
              "#fdca26"
             ],
             [
              1,
              "#f0f921"
             ]
            ],
            "type": "histogram2d"
           }
          ],
          "histogram2dcontour": [
           {
            "colorbar": {
             "outlinewidth": 0,
             "ticks": ""
            },
            "colorscale": [
             [
              0,
              "#0d0887"
             ],
             [
              0.1111111111111111,
              "#46039f"
             ],
             [
              0.2222222222222222,
              "#7201a8"
             ],
             [
              0.3333333333333333,
              "#9c179e"
             ],
             [
              0.4444444444444444,
              "#bd3786"
             ],
             [
              0.5555555555555556,
              "#d8576b"
             ],
             [
              0.6666666666666666,
              "#ed7953"
             ],
             [
              0.7777777777777778,
              "#fb9f3a"
             ],
             [
              0.8888888888888888,
              "#fdca26"
             ],
             [
              1,
              "#f0f921"
             ]
            ],
            "type": "histogram2dcontour"
           }
          ],
          "mesh3d": [
           {
            "colorbar": {
             "outlinewidth": 0,
             "ticks": ""
            },
            "type": "mesh3d"
           }
          ],
          "parcoords": [
           {
            "line": {
             "colorbar": {
              "outlinewidth": 0,
              "ticks": ""
             }
            },
            "type": "parcoords"
           }
          ],
          "pie": [
           {
            "automargin": true,
            "type": "pie"
           }
          ],
          "scatter": [
           {
            "fillpattern": {
             "fillmode": "overlay",
             "size": 10,
             "solidity": 0.2
            },
            "type": "scatter"
           }
          ],
          "scatter3d": [
           {
            "line": {
             "colorbar": {
              "outlinewidth": 0,
              "ticks": ""
             }
            },
            "marker": {
             "colorbar": {
              "outlinewidth": 0,
              "ticks": ""
             }
            },
            "type": "scatter3d"
           }
          ],
          "scattercarpet": [
           {
            "marker": {
             "colorbar": {
              "outlinewidth": 0,
              "ticks": ""
             }
            },
            "type": "scattercarpet"
           }
          ],
          "scattergeo": [
           {
            "marker": {
             "colorbar": {
              "outlinewidth": 0,
              "ticks": ""
             }
            },
            "type": "scattergeo"
           }
          ],
          "scattergl": [
           {
            "marker": {
             "colorbar": {
              "outlinewidth": 0,
              "ticks": ""
             }
            },
            "type": "scattergl"
           }
          ],
          "scattermapbox": [
           {
            "marker": {
             "colorbar": {
              "outlinewidth": 0,
              "ticks": ""
             }
            },
            "type": "scattermapbox"
           }
          ],
          "scatterpolar": [
           {
            "marker": {
             "colorbar": {
              "outlinewidth": 0,
              "ticks": ""
             }
            },
            "type": "scatterpolar"
           }
          ],
          "scatterpolargl": [
           {
            "marker": {
             "colorbar": {
              "outlinewidth": 0,
              "ticks": ""
             }
            },
            "type": "scatterpolargl"
           }
          ],
          "scatterternary": [
           {
            "marker": {
             "colorbar": {
              "outlinewidth": 0,
              "ticks": ""
             }
            },
            "type": "scatterternary"
           }
          ],
          "surface": [
           {
            "colorbar": {
             "outlinewidth": 0,
             "ticks": ""
            },
            "colorscale": [
             [
              0,
              "#0d0887"
             ],
             [
              0.1111111111111111,
              "#46039f"
             ],
             [
              0.2222222222222222,
              "#7201a8"
             ],
             [
              0.3333333333333333,
              "#9c179e"
             ],
             [
              0.4444444444444444,
              "#bd3786"
             ],
             [
              0.5555555555555556,
              "#d8576b"
             ],
             [
              0.6666666666666666,
              "#ed7953"
             ],
             [
              0.7777777777777778,
              "#fb9f3a"
             ],
             [
              0.8888888888888888,
              "#fdca26"
             ],
             [
              1,
              "#f0f921"
             ]
            ],
            "type": "surface"
           }
          ],
          "table": [
           {
            "cells": {
             "fill": {
              "color": "#EBF0F8"
             },
             "line": {
              "color": "white"
             }
            },
            "header": {
             "fill": {
              "color": "#C8D4E3"
             },
             "line": {
              "color": "white"
             }
            },
            "type": "table"
           }
          ]
         },
         "layout": {
          "annotationdefaults": {
           "arrowcolor": "#2a3f5f",
           "arrowhead": 0,
           "arrowwidth": 1
          },
          "autotypenumbers": "strict",
          "coloraxis": {
           "colorbar": {
            "outlinewidth": 0,
            "ticks": ""
           }
          },
          "colorscale": {
           "diverging": [
            [
             0,
             "#8e0152"
            ],
            [
             0.1,
             "#c51b7d"
            ],
            [
             0.2,
             "#de77ae"
            ],
            [
             0.3,
             "#f1b6da"
            ],
            [
             0.4,
             "#fde0ef"
            ],
            [
             0.5,
             "#f7f7f7"
            ],
            [
             0.6,
             "#e6f5d0"
            ],
            [
             0.7,
             "#b8e186"
            ],
            [
             0.8,
             "#7fbc41"
            ],
            [
             0.9,
             "#4d9221"
            ],
            [
             1,
             "#276419"
            ]
           ],
           "sequential": [
            [
             0,
             "#0d0887"
            ],
            [
             0.1111111111111111,
             "#46039f"
            ],
            [
             0.2222222222222222,
             "#7201a8"
            ],
            [
             0.3333333333333333,
             "#9c179e"
            ],
            [
             0.4444444444444444,
             "#bd3786"
            ],
            [
             0.5555555555555556,
             "#d8576b"
            ],
            [
             0.6666666666666666,
             "#ed7953"
            ],
            [
             0.7777777777777778,
             "#fb9f3a"
            ],
            [
             0.8888888888888888,
             "#fdca26"
            ],
            [
             1,
             "#f0f921"
            ]
           ],
           "sequentialminus": [
            [
             0,
             "#0d0887"
            ],
            [
             0.1111111111111111,
             "#46039f"
            ],
            [
             0.2222222222222222,
             "#7201a8"
            ],
            [
             0.3333333333333333,
             "#9c179e"
            ],
            [
             0.4444444444444444,
             "#bd3786"
            ],
            [
             0.5555555555555556,
             "#d8576b"
            ],
            [
             0.6666666666666666,
             "#ed7953"
            ],
            [
             0.7777777777777778,
             "#fb9f3a"
            ],
            [
             0.8888888888888888,
             "#fdca26"
            ],
            [
             1,
             "#f0f921"
            ]
           ]
          },
          "colorway": [
           "#636efa",
           "#EF553B",
           "#00cc96",
           "#ab63fa",
           "#FFA15A",
           "#19d3f3",
           "#FF6692",
           "#B6E880",
           "#FF97FF",
           "#FECB52"
          ],
          "font": {
           "color": "#2a3f5f"
          },
          "geo": {
           "bgcolor": "white",
           "lakecolor": "white",
           "landcolor": "#E5ECF6",
           "showlakes": true,
           "showland": true,
           "subunitcolor": "white"
          },
          "hoverlabel": {
           "align": "left"
          },
          "hovermode": "closest",
          "mapbox": {
           "style": "light"
          },
          "paper_bgcolor": "white",
          "plot_bgcolor": "#E5ECF6",
          "polar": {
           "angularaxis": {
            "gridcolor": "white",
            "linecolor": "white",
            "ticks": ""
           },
           "bgcolor": "#E5ECF6",
           "radialaxis": {
            "gridcolor": "white",
            "linecolor": "white",
            "ticks": ""
           }
          },
          "scene": {
           "xaxis": {
            "backgroundcolor": "#E5ECF6",
            "gridcolor": "white",
            "gridwidth": 2,
            "linecolor": "white",
            "showbackground": true,
            "ticks": "",
            "zerolinecolor": "white"
           },
           "yaxis": {
            "backgroundcolor": "#E5ECF6",
            "gridcolor": "white",
            "gridwidth": 2,
            "linecolor": "white",
            "showbackground": true,
            "ticks": "",
            "zerolinecolor": "white"
           },
           "zaxis": {
            "backgroundcolor": "#E5ECF6",
            "gridcolor": "white",
            "gridwidth": 2,
            "linecolor": "white",
            "showbackground": true,
            "ticks": "",
            "zerolinecolor": "white"
           }
          },
          "shapedefaults": {
           "line": {
            "color": "#2a3f5f"
           }
          },
          "ternary": {
           "aaxis": {
            "gridcolor": "white",
            "linecolor": "white",
            "ticks": ""
           },
           "baxis": {
            "gridcolor": "white",
            "linecolor": "white",
            "ticks": ""
           },
           "bgcolor": "#E5ECF6",
           "caxis": {
            "gridcolor": "white",
            "linecolor": "white",
            "ticks": ""
           }
          },
          "title": {
           "x": 0.05
          },
          "xaxis": {
           "automargin": true,
           "gridcolor": "white",
           "linecolor": "white",
           "ticks": "",
           "title": {
            "standoff": 15
           },
           "zerolinecolor": "white",
           "zerolinewidth": 2
          },
          "yaxis": {
           "automargin": true,
           "gridcolor": "white",
           "linecolor": "white",
           "ticks": "",
           "title": {
            "standoff": 15
           },
           "zerolinecolor": "white",
           "zerolinewidth": 2
          }
         }
        },
        "title": {
         "text": "Lifetime PTSD Prevalence & Trauma Exposure by Country"
        }
       }
      }
     },
     "metadata": {},
     "output_type": "display_data"
    }
   ],
   "source": [
    "# Standardize country names for the two relevant datasets\n",
    "ptsdWorldMentalHealthSurvey = Countryparser.standardizeCountryNames(ptsdWorldMentalHealthSurvey, 'Country', Countryparser.countryScope)\n",
    "ptsdWorldMentalHealthSurveyCopy = ptsdWorldMentalHealthSurvey.copy()\n",
    "# Categorizing trauma and PTSD columns into distinct categories\n",
    "\n",
    "ptsdWorldMentalHealthSurveyCopy['traumaCategory'] = pd.cut(\n",
    "    ptsdWorldMentalHealthSurveyCopy['Trauma exposure (%)'], \n",
    "    bins=[-1, 55, 70, float('inf')], \n",
    "    labels=['Low Trauma', 'Moderate Trauma', 'High Trauma']\n",
    ").astype(str)\n",
    "\n",
    "ptsdWorldMentalHealthSurveyCopy['PTSDCategory'] = pd.cut(\n",
    "    ptsdWorldMentalHealthSurveyCopy[\n",
    "        'Lifetime prevalence of PTSD in total sample (%)'],\n",
    "    bins=[-1, 2.7, 5.3, float('inf')],\n",
    "    labels=['Low PTSD', 'Moderate PTSD', 'High PTSD']\n",
    ").astype(str)\n",
    "\n",
    "# Create a new column that holds the value of the combined categories for each country\n",
    "ptsdWorldMentalHealthSurveyCopy['Combined Category'] = \\\n",
    "    ptsdWorldMentalHealthSurveyCopy['traumaCategory'] + '-' + ptsdWorldMentalHealthSurveyCopy['PTSDCategory']\n",
    "\n",
    "# Create the choropleth map\n",
    "ptsdToTraumaMap = px.choropleth(\n",
    "    ptsdWorldMentalHealthSurveyCopy,\n",
    "    locations=\"Country\",\n",
    "    color=\"Combined Category\",\n",
    "    hover_name=\"Country\",\n",
    "    hover_data=[\"Lifetime prevalence of PTSD in total sample (%)\", \"Trauma exposure (%)\"],\n",
    "    color_discrete_map={\n",
    "        'Low Trauma-Low PTSD': '#66c2a5',            \n",
    "        'Low Trauma-Moderate PTSD': '#41ab5d',       \n",
    "        'Low Trauma-High PTSD': '#238b45',           \n",
    "        'Moderate Trauma-Low PTSD': '#fee08b',       \n",
    "        'Moderate Trauma-Moderate PTSD': '#f37726',  \n",
    "        'Moderate Trauma-High PTSD': '#5e7787',     \n",
    "        'High Trauma-Low PTSD': '#156794',         \n",
    "        'High Trauma-Moderate PTSD': '#ca431b',      \n",
    "        'High Trauma-High PTSD': '#b20000'          \n",
    "    },\n",
    "    title=\"Lifetime PTSD Prevalence & Trauma Exposure by Country\",\n",
    "    category_orders={\n",
    "        \"Combined Category\": [\n",
    "            'Low Trauma-Low PTSD', 'Low Trauma-Moderate PTSD', 'Low Trauma-High PTSD',\n",
    "            'Moderate Trauma-Low PTSD', 'Moderate Trauma-Moderate PTSD', 'Moderate Trauma-High PTSD',\n",
    "            'High Trauma-Low PTSD', 'High Trauma-Moderate PTSD', 'High Trauma-High PTSD']\n",
    "    }\n",
    ")\n",
    "# Update the geographic layout\n",
    "ptsdToTraumaMap.update_geos(projection_type='orthographic')\n",
    "# Show the map\n",
    "# py.plot(ptsdToTraumaMap, filename='ptsdToTraumaMap', auto_open=True)\n",
    "# ptsdToTraumaMap.show()"
   ]
  },
  {
   "cell_type": "markdown",
   "metadata": {},
   "source": [
    "## PTSD Against Trauma and Healthcare Plot"
   ]
  },
  {
   "cell_type": "code",
   "execution_count": 8,
   "metadata": {},
   "outputs": [
    {
     "name": "stderr",
     "output_type": "stream",
     "text": [
      "C:\\Users\\joelm\\AppData\\Local\\Temp\\ipykernel_12852\\547765907.py:40: UserWarning:\n",
      "\n",
      "set_ticklabels() should only be used with a fixed number of ticks, i.e. after set_ticks() or using a FixedLocator.\n",
      "\n"
     ]
    },
    {
     "data": {
      "image/png": "[encoded data removed]",
      "text/plain": [
       "<Figure size 1000x800 with 2 Axes>"
      ]
     },
     "metadata": {},
     "output_type": "display_data"
    }
   ],
   "source": [
    "# Here we're standardizing the country names for the two relevant datasets we need for this particular analysis.\n",
    "ptsdWorldMentalHealthSurvey = Countryparser.standardizeCountryNames(ptsdWorldMentalHealthSurvey, 'Country', Countryparser.countryScope)\n",
    "healthCarePriceIndex = Countryparser.standardizeCountryNames(healthCarePriceIndex, 'Country', Countryparser.countryScope)\n",
    "healthCareQuality = Countryparser.standardizeCountryNames(healthCareQuality, 'Country', Countryparser.countryScope)\n",
    "# Merging healthcare price index with PTSD and trauma exposure data.\n",
    "ptsdAndHealthCare = ptsdWorldMentalHealthSurvey.merge(healthCarePriceIndex[['Country', 'Healthcare price index world average = 100']], on='Country', how='inner')\n",
    "ptsdAndHealthCareAndHealthQuality = ptsdAndHealthCare.merge(healthCareQuality[['Country', 'Health Care Index']], on='Country', how='inner')\n",
    "# Verify that the merged DataFrame is not empty.\n",
    "if not ptsdAndHealthCareAndHealthQuality.empty:\n",
    "    # Creating DataFrame set to the prevalence of PTSD, trauma exposure, and healthcare price index\n",
    "    ptsdAgainstTraumaAndHealthCareAndHealthQuality = ptsdAndHealthCareAndHealthQuality[[\n",
    "        'Lifetime prevalence of PTSD in total sample (%)', 'Trauma exposure (%)', 'Healthcare price index world average = 100', 'Health Care Index']]\n",
    "    ptsdAgainstTraumaAndHealthCareAndHealthQualityCopy = ptsdAgainstTraumaAndHealthCareAndHealthQuality.copy()\n",
    "    # Renaming columns for correlation matrix due to large size of column names.\n",
    "    ptsdAgainstTraumaAndHealthCareAndHealthQualityCopy.rename(\n",
    "        columns={\n",
    "            'Lifetime prevalence of PTSD in total sample (%)': 'PTSD Prevalence',\n",
    "            'Trauma exposure (%)': 'Trauma Exposure',\n",
    "            'Healthcare price index world average = 100': 'Healthcare Cost', \n",
    "            'Health Care Index': 'Healthcare Quality'},\n",
    "        inplace=True\n",
    "    )\n",
    "    # Creating correlation DataFrame.\n",
    "    ptsdAgainstTraumaAndHealthCareCorrMatrix = ptsdAgainstTraumaAndHealthCareAndHealthQualityCopy.corr()\n",
    "    # Creating subplot for heatmap.\n",
    "    fig = plt.figure(figsize=(10, 8))\n",
    "    fig.patch.set_color('#00000d')\n",
    "    ax = plt.subplot(111)\n",
    "    # Generating heatmap of correlation matrix, and normalizing variable scale to be on point 0 +/- 1.\n",
    "    sns.heatmap(ptsdAgainstTraumaAndHealthCareCorrMatrix,\n",
    "                annot=True, cmap='coolwarm', vmin=-1, vmax=1, ax=ax)\n",
    "    plt.title(\"Lifetime Prevalence Of PTSD Compared To Trauma Exposure And Healthcare\", color='#e8e8e8')\n",
    "    # plt.xlabel('', color='#ec3a3b')\n",
    "    ax.tick_params(axis='x', colors='#ec3a3b')\n",
    "    ax.tick_params(axis='y', colors='#ec3a3b')\n",
    "    plt.xticks(rotation=0)\n",
    "    plt.yticks(rotation=90)\n",
    "    cbar = ax.collections[0].colorbar\n",
    "    cbar.ax.tick_params(labelsize=12)  # Adjust label size\n",
    "    cbar.ax.set_yticklabels(cbar.ax.get_yticks(\n",
    "    ), color='#ec3a3b')\n",
    "    # Displaying generated heatmap.\n",
    "    plt.show()"
   ]
  },
  {
   "cell_type": "markdown",
   "metadata": {},
   "source": [
    "### SNP & PTSD Prevalence Plot"
   ]
  },
  {
   "cell_type": "code",
   "execution_count": 9,
   "metadata": {},
   "outputs": [
    {
     "data": {
      "application/vnd.plotly.v1+json": {
       "config": {
        "plotlyServerURL": "https://plotly.com"
       },
       "data": [
        {
         "hovertemplate": "Group=Control<br>SNP and Genotype=%{x}<br>Frequency=%{y}<extra></extra>",
         "legendgroup": "Control",
         "marker": {
          "color": "#636efa",
          "symbol": "circle"
         },
         "mode": "markers",
         "name": "Control",
         "orientation": "v",
         "showlegend": true,
         "type": "scatter",
         "x": [
          "rs1360780 (1: T, 2: C) 1:1",
          "rs3800373 (1: C, 2: A) 1:1",
          "rs9296158 (1: G, 2: A) 1:1",
          "rs9470080 (1: T, 2: C) 1:1",
          "rs1360780 (1: T, 2: C) 1:2",
          "rs3800373 (1: C, 2: A) 1:2",
          "rs9296158 (1: G, 2: A) 1:2",
          "rs9470080 (1: T, 2: C) 1:2",
          "rs1360780 (1: T, 2: C) 2:2",
          "rs3800373 (1: C, 2: A) 2:2",
          "rs9296158 (1: G, 2: A) 2:2",
          "rs9470080 (1: T, 2: C) 2:2"
         ],
         "xaxis": "x",
         "y": [
          0.1,
          0.11,
          0.4,
          0.12,
          0.42,
          0.44,
          0.47,
          0.48,
          0.48,
          0.45,
          0.13,
          0.39
         ],
         "yaxis": "y"
        },
        {
         "hovertemplate": "Group=PTSD<br>SNP and Genotype=%{x}<br>Frequency=%{y}<extra></extra>",
         "legendgroup": "PTSD",
         "marker": {
          "color": "#EF553B",
          "symbol": "diamond"
         },
         "mode": "markers",
         "name": "PTSD",
         "orientation": "v",
         "showlegend": true,
         "type": "scatter",
         "x": [
          "rs1360780 (1: T, 2: C) 1:1",
          "rs3800373 (1: C, 2: A) 1:1",
          "rs9296158 (1: G, 2: A) 1:1",
          "rs9470080 (1: T, 2: C) 1:1",
          "rs1360780 (1: T, 2: C) 1:2",
          "rs3800373 (1: C, 2: A) 1:2",
          "rs9296158 (1: G, 2: A) 1:2",
          "rs9470080 (1: T, 2: C) 1:2",
          "rs1360780 (1: T, 2: C) 2:2",
          "rs3800373 (1: C, 2: A) 2:2",
          "rs9296158 (1: G, 2: A) 2:2",
          "rs9470080 (1: T, 2: C) 2:2"
         ],
         "xaxis": "x",
         "y": [
          0.04,
          0.06,
          0.47,
          0.06,
          0.45,
          0.44,
          0.46,
          0.47,
          0.5,
          0.5,
          0.07,
          0.46
         ],
         "yaxis": "y"
        }
       ],
       "layout": {
        "height": 800,
        "legend": {
         "font": {
          "size": 14
         },
         "title": {
          "font": {
           "size": 16
          },
          "text": "Group"
         },
         "tracegroupgap": 0
        },
        "margin": {
         "b": 40,
         "l": 40,
         "r": 40,
         "t": 80
        },
        "template": {
         "data": {
          "bar": [
           {
            "error_x": {
             "color": "#2a3f5f"
            },
            "error_y": {
             "color": "#2a3f5f"
            },
            "marker": {
             "line": {
              "color": "#E5ECF6",
              "width": 0.5
             },
             "pattern": {
              "fillmode": "overlay",
              "size": 10,
              "solidity": 0.2
             }
            },
            "type": "bar"
           }
          ],
          "barpolar": [
           {
            "marker": {
             "line": {
              "color": "#E5ECF6",
              "width": 0.5
             },
             "pattern": {
              "fillmode": "overlay",
              "size": 10,
              "solidity": 0.2
             }
            },
            "type": "barpolar"
           }
          ],
          "carpet": [
           {
            "aaxis": {
             "endlinecolor": "#2a3f5f",
             "gridcolor": "white",
             "linecolor": "white",
             "minorgridcolor": "white",
             "startlinecolor": "#2a3f5f"
            },
            "baxis": {
             "endlinecolor": "#2a3f5f",
             "gridcolor": "white",
             "linecolor": "white",
             "minorgridcolor": "white",
             "startlinecolor": "#2a3f5f"
            },
            "type": "carpet"
           }
          ],
          "choropleth": [
           {
            "colorbar": {
             "outlinewidth": 0,
             "ticks": ""
            },
            "type": "choropleth"
           }
          ],
          "contour": [
           {
            "colorbar": {
             "outlinewidth": 0,
             "ticks": ""
            },
            "colorscale": [
             [
              0,
              "#0d0887"
             ],
             [
              0.1111111111111111,
              "#46039f"
             ],
             [
              0.2222222222222222,
              "#7201a8"
             ],
             [
              0.3333333333333333,
              "#9c179e"
             ],
             [
              0.4444444444444444,
              "#bd3786"
             ],
             [
              0.5555555555555556,
              "#d8576b"
             ],
             [
              0.6666666666666666,
              "#ed7953"
             ],
             [
              0.7777777777777778,
              "#fb9f3a"
             ],
             [
              0.8888888888888888,
              "#fdca26"
             ],
             [
              1,
              "#f0f921"
             ]
            ],
            "type": "contour"
           }
          ],
          "contourcarpet": [
           {
            "colorbar": {
             "outlinewidth": 0,
             "ticks": ""
            },
            "type": "contourcarpet"
           }
          ],
          "heatmap": [
           {
            "colorbar": {
             "outlinewidth": 0,
             "ticks": ""
            },
            "colorscale": [
             [
              0,
              "#0d0887"
             ],
             [
              0.1111111111111111,
              "#46039f"
             ],
             [
              0.2222222222222222,
              "#7201a8"
             ],
             [
              0.3333333333333333,
              "#9c179e"
             ],
             [
              0.4444444444444444,
              "#bd3786"
             ],
             [
              0.5555555555555556,
              "#d8576b"
             ],
             [
              0.6666666666666666,
              "#ed7953"
             ],
             [
              0.7777777777777778,
              "#fb9f3a"
             ],
             [
              0.8888888888888888,
              "#fdca26"
             ],
             [
              1,
              "#f0f921"
             ]
            ],
            "type": "heatmap"
           }
          ],
          "heatmapgl": [
           {
            "colorbar": {
             "outlinewidth": 0,
             "ticks": ""
            },
            "colorscale": [
             [
              0,
              "#0d0887"
             ],
             [
              0.1111111111111111,
              "#46039f"
             ],
             [
              0.2222222222222222,
              "#7201a8"
             ],
             [
              0.3333333333333333,
              "#9c179e"
             ],
             [
              0.4444444444444444,
              "#bd3786"
             ],
             [
              0.5555555555555556,
              "#d8576b"
             ],
             [
              0.6666666666666666,
              "#ed7953"
             ],
             [
              0.7777777777777778,
              "#fb9f3a"
             ],
             [
              0.8888888888888888,
              "#fdca26"
             ],
             [
              1,
              "#f0f921"
             ]
            ],
            "type": "heatmapgl"
           }
          ],
          "histogram": [
           {
            "marker": {
             "pattern": {
              "fillmode": "overlay",
              "size": 10,
              "solidity": 0.2
             }
            },
            "type": "histogram"
           }
          ],
          "histogram2d": [
           {
            "colorbar": {
             "outlinewidth": 0,
             "ticks": ""
            },
            "colorscale": [
             [
              0,
              "#0d0887"
             ],
             [
              0.1111111111111111,
              "#46039f"
             ],
             [
              0.2222222222222222,
              "#7201a8"
             ],
             [
              0.3333333333333333,
              "#9c179e"
             ],
             [
              0.4444444444444444,
              "#bd3786"
             ],
             [
              0.5555555555555556,
              "#d8576b"
             ],
             [
              0.6666666666666666,
              "#ed7953"
             ],
             [
              0.7777777777777778,
              "#fb9f3a"
             ],
             [
              0.8888888888888888,
              "#fdca26"
             ],
             [
              1,
              "#f0f921"
             ]
            ],
            "type": "histogram2d"
           }
          ],
          "histogram2dcontour": [
           {
            "colorbar": {
             "outlinewidth": 0,
             "ticks": ""
            },
            "colorscale": [
             [
              0,
              "#0d0887"
             ],
             [
              0.1111111111111111,
              "#46039f"
             ],
             [
              0.2222222222222222,
              "#7201a8"
             ],
             [
              0.3333333333333333,
              "#9c179e"
             ],
             [
              0.4444444444444444,
              "#bd3786"
             ],
             [
              0.5555555555555556,
              "#d8576b"
             ],
             [
              0.6666666666666666,
              "#ed7953"
             ],
             [
              0.7777777777777778,
              "#fb9f3a"
             ],
             [
              0.8888888888888888,
              "#fdca26"
             ],
             [
              1,
              "#f0f921"
             ]
            ],
            "type": "histogram2dcontour"
           }
          ],
          "mesh3d": [
           {
            "colorbar": {
             "outlinewidth": 0,
             "ticks": ""
            },
            "type": "mesh3d"
           }
          ],
          "parcoords": [
           {
            "line": {
             "colorbar": {
              "outlinewidth": 0,
              "ticks": ""
             }
            },
            "type": "parcoords"
           }
          ],
          "pie": [
           {
            "automargin": true,
            "type": "pie"
           }
          ],
          "scatter": [
           {
            "fillpattern": {
             "fillmode": "overlay",
             "size": 10,
             "solidity": 0.2
            },
            "type": "scatter"
           }
          ],
          "scatter3d": [
           {
            "line": {
             "colorbar": {
              "outlinewidth": 0,
              "ticks": ""
             }
            },
            "marker": {
             "colorbar": {
              "outlinewidth": 0,
              "ticks": ""
             }
            },
            "type": "scatter3d"
           }
          ],
          "scattercarpet": [
           {
            "marker": {
             "colorbar": {
              "outlinewidth": 0,
              "ticks": ""
             }
            },
            "type": "scattercarpet"
           }
          ],
          "scattergeo": [
           {
            "marker": {
             "colorbar": {
              "outlinewidth": 0,
              "ticks": ""
             }
            },
            "type": "scattergeo"
           }
          ],
          "scattergl": [
           {
            "marker": {
             "colorbar": {
              "outlinewidth": 0,
              "ticks": ""
             }
            },
            "type": "scattergl"
           }
          ],
          "scattermapbox": [
           {
            "marker": {
             "colorbar": {
              "outlinewidth": 0,
              "ticks": ""
             }
            },
            "type": "scattermapbox"
           }
          ],
          "scatterpolar": [
           {
            "marker": {
             "colorbar": {
              "outlinewidth": 0,
              "ticks": ""
             }
            },
            "type": "scatterpolar"
           }
          ],
          "scatterpolargl": [
           {
            "marker": {
             "colorbar": {
              "outlinewidth": 0,
              "ticks": ""
             }
            },
            "type": "scatterpolargl"
           }
          ],
          "scatterternary": [
           {
            "marker": {
             "colorbar": {
              "outlinewidth": 0,
              "ticks": ""
             }
            },
            "type": "scatterternary"
           }
          ],
          "surface": [
           {
            "colorbar": {
             "outlinewidth": 0,
             "ticks": ""
            },
            "colorscale": [
             [
              0,
              "#0d0887"
             ],
             [
              0.1111111111111111,
              "#46039f"
             ],
             [
              0.2222222222222222,
              "#7201a8"
             ],
             [
              0.3333333333333333,
              "#9c179e"
             ],
             [
              0.4444444444444444,
              "#bd3786"
             ],
             [
              0.5555555555555556,
              "#d8576b"
             ],
             [
              0.6666666666666666,
              "#ed7953"
             ],
             [
              0.7777777777777778,
              "#fb9f3a"
             ],
             [
              0.8888888888888888,
              "#fdca26"
             ],
             [
              1,
              "#f0f921"
             ]
            ],
            "type": "surface"
           }
          ],
          "table": [
           {
            "cells": {
             "fill": {
              "color": "#EBF0F8"
             },
             "line": {
              "color": "white"
             }
            },
            "header": {
             "fill": {
              "color": "#C8D4E3"
             },
             "line": {
              "color": "white"
             }
            },
            "type": "table"
           }
          ]
         },
         "layout": {
          "annotationdefaults": {
           "arrowcolor": "#2a3f5f",
           "arrowhead": 0,
           "arrowwidth": 1
          },
          "autotypenumbers": "strict",
          "coloraxis": {
           "colorbar": {
            "outlinewidth": 0,
            "ticks": ""
           }
          },
          "colorscale": {
           "diverging": [
            [
             0,
             "#8e0152"
            ],
            [
             0.1,
             "#c51b7d"
            ],
            [
             0.2,
             "#de77ae"
            ],
            [
             0.3,
             "#f1b6da"
            ],
            [
             0.4,
             "#fde0ef"
            ],
            [
             0.5,
             "#f7f7f7"
            ],
            [
             0.6,
             "#e6f5d0"
            ],
            [
             0.7,
             "#b8e186"
            ],
            [
             0.8,
             "#7fbc41"
            ],
            [
             0.9,
             "#4d9221"
            ],
            [
             1,
             "#276419"
            ]
           ],
           "sequential": [
            [
             0,
             "#0d0887"
            ],
            [
             0.1111111111111111,
             "#46039f"
            ],
            [
             0.2222222222222222,
             "#7201a8"
            ],
            [
             0.3333333333333333,
             "#9c179e"
            ],
            [
             0.4444444444444444,
             "#bd3786"
            ],
            [
             0.5555555555555556,
             "#d8576b"
            ],
            [
             0.6666666666666666,
             "#ed7953"
            ],
            [
             0.7777777777777778,
             "#fb9f3a"
            ],
            [
             0.8888888888888888,
             "#fdca26"
            ],
            [
             1,
             "#f0f921"
            ]
           ],
           "sequentialminus": [
            [
             0,
             "#0d0887"
            ],
            [
             0.1111111111111111,
             "#46039f"
            ],
            [
             0.2222222222222222,
             "#7201a8"
            ],
            [
             0.3333333333333333,
             "#9c179e"
            ],
            [
             0.4444444444444444,
             "#bd3786"
            ],
            [
             0.5555555555555556,
             "#d8576b"
            ],
            [
             0.6666666666666666,
             "#ed7953"
            ],
            [
             0.7777777777777778,
             "#fb9f3a"
            ],
            [
             0.8888888888888888,
             "#fdca26"
            ],
            [
             1,
             "#f0f921"
            ]
           ]
          },
          "colorway": [
           "#636efa",
           "#EF553B",
           "#00cc96",
           "#ab63fa",
           "#FFA15A",
           "#19d3f3",
           "#FF6692",
           "#B6E880",
           "#FF97FF",
           "#FECB52"
          ],
          "font": {
           "color": "#2a3f5f"
          },
          "geo": {
           "bgcolor": "white",
           "lakecolor": "white",
           "landcolor": "#E5ECF6",
           "showlakes": true,
           "showland": true,
           "subunitcolor": "white"
          },
          "hoverlabel": {
           "align": "left"
          },
          "hovermode": "closest",
          "mapbox": {
           "style": "light"
          },
          "paper_bgcolor": "white",
          "plot_bgcolor": "#E5ECF6",
          "polar": {
           "angularaxis": {
            "gridcolor": "white",
            "linecolor": "white",
            "ticks": ""
           },
           "bgcolor": "#E5ECF6",
           "radialaxis": {
            "gridcolor": "white",
            "linecolor": "white",
            "ticks": ""
           }
          },
          "scene": {
           "xaxis": {
            "backgroundcolor": "#E5ECF6",
            "gridcolor": "white",
            "gridwidth": 2,
            "linecolor": "white",
            "showbackground": true,
            "ticks": "",
            "zerolinecolor": "white"
           },
           "yaxis": {
            "backgroundcolor": "#E5ECF6",
            "gridcolor": "white",
            "gridwidth": 2,
            "linecolor": "white",
            "showbackground": true,
            "ticks": "",
            "zerolinecolor": "white"
           },
           "zaxis": {
            "backgroundcolor": "#E5ECF6",
            "gridcolor": "white",
            "gridwidth": 2,
            "linecolor": "white",
            "showbackground": true,
            "ticks": "",
            "zerolinecolor": "white"
           }
          },
          "shapedefaults": {
           "line": {
            "color": "#2a3f5f"
           }
          },
          "ternary": {
           "aaxis": {
            "gridcolor": "white",
            "linecolor": "white",
            "ticks": ""
           },
           "baxis": {
            "gridcolor": "white",
            "linecolor": "white",
            "ticks": ""
           },
           "bgcolor": "#E5ECF6",
           "caxis": {
            "gridcolor": "white",
            "linecolor": "white",
            "ticks": ""
           }
          },
          "title": {
           "x": 0.05
          },
          "xaxis": {
           "automargin": true,
           "gridcolor": "white",
           "linecolor": "white",
           "ticks": "",
           "title": {
            "standoff": 15
           },
           "zerolinecolor": "white",
           "zerolinewidth": 2
          },
          "yaxis": {
           "automargin": true,
           "gridcolor": "white",
           "linecolor": "white",
           "ticks": "",
           "title": {
            "standoff": 15
           },
           "zerolinecolor": "white",
           "zerolinewidth": 2
          }
         }
        },
        "title": {
         "font": {
          "size": 24
         },
         "text": "Genotype Frequencies in Control and PTSD Groups"
        },
        "width": 1200,
        "xaxis": {
         "anchor": "y",
         "domain": [
          0,
          1
         ],
         "tickangle": -90,
         "tickfont": {
          "size": 12
         },
         "title": {
          "font": {
           "size": 18
          },
          "text": "SNP and Genotype"
         }
        },
        "yaxis": {
         "anchor": "x",
         "domain": [
          0,
          1
         ],
         "tickfont": {
          "size": 14
         },
         "title": {
          "font": {
           "size": 18
          },
          "text": "Frequency"
         }
        }
       }
      }
     },
     "metadata": {},
     "output_type": "display_data"
    }
   ],
   "source": [
    "processor = FKBP5Processor(usVeteransFKBP5)\n",
    "processed_df = processor.process()\n",
    "# Reshaping the data\n",
    "reshapedData11 = processed_df[['SNP_1:1', 'Frequency 1:1', 'Group']].rename(columns={'SNP_1:1': 'SNP_Genotype', 'Frequency 1:1': 'Frequency'})\n",
    "reshapedData12 = processed_df[['SNP_1:2', 'Frequency 1:2', 'Group']].rename(columns={'SNP_1:2': 'SNP_Genotype', 'Frequency 1:2': 'Frequency'})\n",
    "reshapedData22 = processed_df[['SNP_2:2', 'Frequency 2:2', 'Group']].rename(columns={'SNP_2:2': 'SNP_Genotype', 'Frequency 2:2': 'Frequency'})\n",
    "reshapedSNPData = pd.concat([reshapedData11, reshapedData12, reshapedData22])\n",
    "# Creating the scatter plot\n",
    "fig = px.scatter(reshapedSNPData, x='SNP_Genotype', y='Frequency', color='Group',\n",
    "                 title='Genotype Frequencies in Control and PTSD Groups',\n",
    "                 labels={'SNP_Genotype': 'SNP and Genotype',\n",
    "                         'Frequency': 'Frequency'},\n",
    "                 symbol='Group', size_max=10)\n",
    "# Updating the layout\n",
    "fig.update_layout(\n",
    "    title_font_size=24,\n",
    "    xaxis_title_font_size=18,\n",
    "    yaxis_title_font_size=18,\n",
    "    legend_title_font_size=16,\n",
    "    legend_font_size=14,\n",
    "    xaxis_tickangle=-90,\n",
    "    xaxis_tickfont_size=12,\n",
    "    yaxis_tickfont_size=14,\n",
    "    width=1200,\n",
    "    height=800,\n",
    "    margin=dict(l=40, r=40, t=80, b=40)\n",
    ")\n",
    "fig.show()"
   ]
  },
  {
   "cell_type": "markdown",
   "metadata": {},
   "source": [
    "### SNP Allele Combination Frequencies By Population Predicted Via The Hardy–Weinberg Principle"
   ]
  },
  {
   "cell_type": "code",
   "execution_count": 10,
   "metadata": {},
   "outputs": [
    {
     "name": "stdout",
     "output_type": "stream",
     "text": [
      "{'rs1360780DataPopulationAlleleFrequency': {'ACPOP': {'Ref/Ref': 0.08008899999999998, 'Alt/Alt': 0.5140889999999999, 'Ref/Alt': 0.40582199999999996}, 'Africa': {'Ref/Ref': 0.188356, 'Alt/Alt': 0.3203559999999999, 'Ref/Alt': 0.49128799999999995}, 'African': {'Ref/Ref': 0.17135791411600004, 'Alt/Alt': 0.3424385583062499, 'Ref/Alt': 0.48447727321}, 'AfricanAmerican': {'Ref/Ref': 0.1701892516, 'Alt/Alt': 0.3451092516, 'Ref/Alt': 0.4847014968}, 'America': {'Ref/Ref': 0.04161599999999999, 'Alt/Alt': 0.6336160000000001, 'Ref/Alt': 0.324768}, 'American': {'Ref/Ref': 0.09070788650624999, 'Alt/Alt': 0.48835288650624986, 'Ref/Alt': 0.4209392269874999}, 'Ashkenazi Jewish': {'Ref/Ref': 0.07431076, 'Alt/Alt': 0.52911076, 'Ref/Alt': 0.39657848}, 'Asian': {'Ref/Ref': 0.06263340444444443, 'Alt/Alt': 0.5892097600000001, 'Ref/Alt': 0.38420938666666665}, 'CRM': {'Ref/Ref': 0.068121, 'Alt/Alt': 0.546121, 'Ref/Alt': 0.385758}, 'CentralAmerican': {'Ref/Ref': 0.13608721000000001, 'Alt/Alt': 0.39828721, 'Ref/Alt': 0.46562558}, 'Central_South_Asia': {'Ref/Ref': 0.1296, 'Alt/Alt': 0.4096, 'Ref/Alt': 0.4608}, 'Cuban': {'Ref/Ref': 0.10837263999999999, 'Alt/Alt': 0.4499726399999999, 'Ref/Alt': 0.44165471999999995}, 'Danish': {'Ref/Ref': 0.0625, 'Alt/Alt': 0.5625, 'Ref/Alt': 0.375}, 'Dominican': {'Ref/Ref': 0.12766329, 'Alt/Alt': 0.4130632900000001, 'Ref/Alt': 0.45927342000000004}, 'East Asian': {'Ref/Ref': 0.06654680111111112, 'Alt/Alt': 0.5506134677777776, 'Ref/Alt': 0.3828397311111111}, 'Est_Asia': {'Ref/Ref': 0.07075600000000001, 'Alt/Alt': 0.538756, 'Ref/Alt': 0.390488}, 'Estonian': {'Ref/Ref': 0.06822544, 'Alt/Alt': 0.54582544, 'Ref/Alt': 0.38594912}, 'Europe': {'Ref/Ref': 0.10479787562500002, 'Alt/Alt': 0.4573478756250001, 'Ref/Alt': 0.4378542487500001}, 'European': {'Ref/Ref': 0.08604835560000003, 'Alt/Alt': 0.5072145961, 'Ref/Alt': 0.41782762920000005}, 'Genome of the Netherlands': {'Ref/Ref': 0.1024, 'Alt/Alt': 0.4624000000000001, 'Ref/Alt': 0.43520000000000003}, 'Global': {'Ref/Ref': 0.09275342004298229, 'Alt/Alt': 0.48364449696605916, 'Ref/Alt': 0.4236020829909587}, 'JAPANESE': {'Ref/Ref': 0.050994672399999996, 'Alt/Alt': 0.5993546724, 'Ref/Alt': 0.3496506552}, 'KOREAN': {'Ref/Ref': 0.05666780249999999, 'Alt/Alt': 0.5805678025000001, 'Ref/Alt': 0.36276439499999996}, 'Mexican': {'Ref/Ref': 0.09785009609999999, 'Alt/Alt': 0.47223009609999994, 'Ref/Alt': 0.42991980779999994}, 'Middle_Est': {'Ref/Ref': 0.131044, 'Alt/Alt': 0.407044, 'Ref/Alt': 0.461912}, 'NativeAmerican': {'Ref/Ref': 0.09290304, 'Alt/Alt': 0.4833030400000001, 'Ref/Alt': 0.42379392000000005}, 'NativeHawaiian': {'Ref/Ref': 0.15952035999999997, 'Alt/Alt': 0.36072036, 'Ref/Alt': 0.47975928}, 'Oceania': {'Ref/Ref': 0.24009999999999998, 'Alt/Alt': 0.2601, 'Ref/Alt': 0.4998}, 'Other': {'Ref/Ref': 0.11306406249999999, 'Alt/Alt': 0.4300736400000001, 'Ref/Alt': 0.4410255}, 'PARENT AND CHILD COHORT': {'Ref/Ref': 0.09217295999999998, 'Alt/Alt': 0.48497296, 'Ref/Alt': 0.42285407999999997}, 'PuertoRican': {'Ref/Ref': 0.11383875999999998, 'Alt/Alt': 0.43903876, 'Ref/Alt': 0.44712247999999993}, 'South Asian': {'Ref/Ref': 0.1087900277777778, 'Alt/Alt': 0.45118088999999995, 'Ref/Alt': 0.4430981}, 'SouthAmerican': {'Ref/Ref': 0.09941409000000001, 'Alt/Alt': 0.46881408999999996, 'Ref/Alt': 0.43177182000000003}, 'SouthAsian': {'Ref/Ref': 0.108241, 'Alt/Alt': 0.45024100000000006, 'Ref/Alt': 0.441518}, 'TWIN COHORT': {'Ref/Ref': 0.094864, 'Alt/Alt': 0.47886399999999996, 'Ref/Alt': 0.426272}}}\n",
      "{'rs1360780DataPopulationAlleleFrequency': {'ACPOP': {'Ref/Ref': 0.0729, 'Alt/Alt': 0.5328999999999999, 'Ref/Alt': 0.3942}, 'African': {'Ref/Ref': 0.18924588057600003, 'Alt/Alt': 0.319197880576, 'Ref/Alt': 0.49155623884800004}, 'AfricanAmerican': {'Ref/Ref': 0.18294439839999999, 'Alt/Alt': 0.3275043984, 'Ref/Alt': 0.4895512032}, 'American': {'Ref/Ref': 0.08730695300625001, 'Alt/Alt': 0.4963519530062499, 'Ref/Alt': 0.41634109398749997}, 'Ashkenazi Jewish': {'Ref/Ref': 0.08248384, 'Alt/Alt': 0.50808384, 'Ref/Alt': 0.40943232}, 'Asian': {'Ref/Ref': 0.05326864000000001, 'Alt/Alt': 0.59166864, 'Ref/Alt': 0.35506272000000005}, 'CRM': {'Ref/Ref': 0.066564, 'Alt/Alt': 0.5505639999999999, 'Ref/Alt': 0.382872}, 'Caucasus': {'Ref/Ref': 0.1521, 'Alt/Alt': 0.3721, 'Ref/Alt': 0.4758}, 'Central Asia': {'Ref/Ref': 0.07784100000000002, 'Alt/Alt': 0.519841, 'Ref/Alt': 0.402318}, 'CentralAmerican': {'Ref/Ref': 0.13227769, 'Alt/Alt': 0.40487768999999996, 'Ref/Alt': 0.46284462000000004}, 'Cuban': {'Ref/Ref': 0.09872163999999999, 'Alt/Alt': 0.47032163999999993, 'Ref/Alt': 0.43095671999999996}, 'Daghestan': {'Ref/Ref': 0.073441, 'Alt/Alt': 0.5314409999999999, 'Ref/Alt': 0.395118}, 'Danish': {'Ref/Ref': 0.0625, 'Alt/Alt': 0.5625, 'Ref/Alt': 0.375}, 'Dominican': {'Ref/Ref': 0.12623809, 'Alt/Alt': 0.41563809000000007, 'Ref/Alt': 0.45812382}, 'East Asian': {'Ref/Ref': 0.06438060444444443, 'Alt/Alt': 0.5569139377777778, 'Ref/Alt': 0.37870545777777775}, 'Estonian': {'Ref/Ref': 0.05470921, 'Alt/Alt': 0.58690921, 'Ref/Alt': 0.35838158}, 'Europe': {'Ref/Ref': 0.09220332250000002, 'Alt/Alt': 0.4849033225, 'Ref/Alt': 0.4228933550000001}, 'European': {'Ref/Ref': 0.075345858064, 'Alt/Alt': 0.526361858064, 'Ref/Alt': 0.39829228387200005}, 'Genome of the Netherlands': {'Ref/Ref': 0.08179599999999998, 'Alt/Alt': 0.5097959999999999, 'Ref/Alt': 0.40840799999999994}, 'Global': {'Ref/Ref': 0.09294231254950697, 'Alt/Alt': 0.48321347921617364, 'Ref/Alt': 0.4238442082343195}, 'JAPANESE': {'Ref/Ref': 0.04083632639999999, 'Alt/Alt': 0.6366763263999999, 'Ref/Alt': 0.32248734719999994}, 'KOREAN': {'Ref/Ref': 0.05264730249999999, 'Alt/Alt': 0.5915148100000001, 'Ref/Alt': 0.35293999}, 'Latin American 1': {'Ref/Ref': 0.09314704000000001, 'Alt/Alt': 0.48274703999999996, 'Ref/Alt': 0.42410592}, 'Latin American 2': {'Ref/Ref': 0.09284209000000002, 'Alt/Alt': 0.48344209000000005, 'Ref/Alt': 0.4237158200000001}, 'Mexican': {'Ref/Ref': 0.09273852090000001, 'Alt/Alt': 0.4836785209, 'Ref/Alt': 0.4235829582}, 'NativeAmerican': {'Ref/Ref': 0.08761599999999999, 'Alt/Alt': 0.49561599999999995, 'Ref/Alt': 0.41676799999999997}, 'NativeHawaiian': {'Ref/Ref': 0.15570916, 'Alt/Alt': 0.36650916000000006, 'Ref/Alt': 0.47778168000000004}, 'Near_East': {'Ref/Ref': 0.097344, 'Alt/Alt': 0.47334399999999993, 'Ref/Alt': 0.42931199999999997}, 'Other': {'Ref/Ref': 0.10355523999999998, 'Alt/Alt': 0.45995524000000004, 'Ref/Alt': 0.43648951999999996}, 'PARENT AND CHILD COHORT': {'Ref/Ref': 0.07924224999999999, 'Alt/Alt': 0.51624225, 'Ref/Alt': 0.4045155}, 'PuertoRican': {'Ref/Ref': 0.12390399999999999, 'Alt/Alt': 0.419904, 'Ref/Alt': 0.456192}, 'South Asian': {'Ref/Ref': 0.10881751562500001, 'Alt/Alt': 0.44906751562500014, 'Ref/Alt': 0.4421149687500001}, 'SouthAmerican': {'Ref/Ref': 0.09193024000000001, 'Alt/Alt': 0.48553023999999995, 'Ref/Alt': 0.42253952}, 'SouthAsian': {'Ref/Ref': 0.101761, 'Alt/Alt': 0.4637610000000001, 'Ref/Alt': 0.43447800000000003}, 'Spanish controls': {'Ref/Ref': 0.07672900000000002, 'Alt/Alt': 0.522729, 'Ref/Alt': 0.400542}, 'TWIN COHORT': {'Ref/Ref': 0.08357881000000002, 'Alt/Alt': 0.50537881, 'Ref/Alt': 0.41104238000000004}, 'Total': {'Ref/Ref': 0.08325417744400002, 'Alt/Alt': 0.5061781774440001, 'Ref/Alt': 0.41056764511200006}}}\n",
      "{'rs1360780DataPopulationAlleleFrequency': {'ACPOP': {'Ref/Ref': 0.07840000000000001, 'Alt/Alt': 0.5184, 'Ref/Alt': 0.4032}, 'African': {'Ref/Ref': 0.213015479296, 'Alt/Alt': 0.28994347929599995, 'Ref/Alt': 0.49704104140799993}, 'American': {'Ref/Ref': 0.11386575359999998, 'Alt/Alt': 0.43898575360000003, 'Ref/Alt': 0.44714849279999996}, 'Ashkenazi Jewish': {'Ref/Ref': 0.07535025000000001, 'Alt/Alt': 0.52635025, 'Ref/Alt': 0.39829950000000003}, 'Asian': {'Ref/Ref': 0.11022399999999997, 'Alt/Alt': 0.44622400000000007, 'Ref/Alt': 0.443552}, 'CRM': {'Ref/Ref': 0.109561, 'Alt/Alt': 0.44756100000000004, 'Ref/Alt': 0.44287800000000005}, 'Danish': {'Ref/Ref': 0.07840000000000001, 'Alt/Alt': 0.5184, 'Ref/Alt': 0.4032}, 'East Asian': {'Ref/Ref': 0.09016007111111111, 'Alt/Alt': 0.48962673777777793, 'Ref/Alt': 0.4202131911111112}, 'Estonian': {'Ref/Ref': 0.06295081000000001, 'Alt/Alt': 0.56115081, 'Ref/Alt': 0.37589838000000003}, 'Europe': {'Ref/Ref': 0.09177870250000003, 'Alt/Alt': 0.4858787024999999, 'Ref/Alt': 0.42234259500000004}, 'European': {'Ref/Ref': 0.08657158713025, 'Alt/Alt': 0.4981105871302501, 'Ref/Alt': 0.41531782573950005}, 'Genome of the Netherlands': {'Ref/Ref': 0.098596, 'Alt/Alt': 0.47059600000000007, 'Ref/Alt': 0.430808}, 'Global': {'Ref/Ref': 0.10266687911616527, 'Alt/Alt': 0.46183342457071086, 'Ref/Alt': 0.43549969631312396}, 'JAPANESE': {'Ref/Ref': 0.0966215056, 'Alt/Alt': 0.4749415056, 'Ref/Alt': 0.42843698880000003}, 'KOREAN': {'Ref/Ref': 0.09196056250000001, 'Alt/Alt': 0.50197225, 'Ref/Alt': 0.42970525000000004}, 'Latin American 1': {'Ref/Ref': 0.11289600000000001, 'Alt/Alt': 0.44089600000000007, 'Ref/Alt': 0.44620800000000005}, 'Latin American 2': {'Ref/Ref': 0.12376324, 'Alt/Alt': 0.42016324, 'Ref/Alt': 0.45607352}, 'Other': {'Ref/Ref': 0.12369289000000001, 'Alt/Alt': 0.42029289, 'Ref/Alt': 0.45601422}, 'PARENT AND CHILD COHORT': {'Ref/Ref': 0.08964036, 'Alt/Alt': 0.49084036, 'Ref/Alt': 0.41951928}, 'South Asian': {'Ref/Ref': 0.11505664, 'Alt/Alt': 0.4366566400000001, 'Ref/Alt': 0.44828672}, 'TWIN COHORT': {'Ref/Ref': 0.09351364000000001, 'Alt/Alt': 0.48191364000000003, 'Ref/Alt': 0.42457272000000007}, 'Total': {'Ref/Ref': 0.09788137960000001, 'Alt/Alt': 0.4721613796, 'Ref/Alt': 0.42995724080000003}}}\n",
      "{'rs1360780DataPopulationAlleleFrequency': {'ACPOP': {'Ref/Ref': 0.11696400000000001, 'Alt/Alt': 0.432964, 'Ref/Alt': 0.450072}, 'Africa': {'Ref/Ref': 0.24601599999999998, 'Alt/Alt': 0.254016, 'Ref/Alt': 0.499968}, 'African': {'Ref/Ref': 0.213745330276, 'Alt/Alt': 0.28905945780625003, 'Ref/Alt': 0.49713221291000004}, 'AfricanAmerican': {'Ref/Ref': 0.2123919396, 'Alt/Alt': 0.29067193959999993, 'Ref/Alt': 0.49693612079999994}, 'America': {'Ref/Ref': 0.07728400000000002, 'Alt/Alt': 0.521284, 'Ref/Alt': 0.401432}, 'American': {'Ref/Ref': 0.12630205209999998, 'Alt/Alt': 0.41552205210000004, 'Ref/Alt': 0.4581758958}, 'Ashkenazi Jewish': {'Ref/Ref': 0.07496644, 'Alt/Alt': 0.52736644, 'Ref/Alt': 0.39766712}, 'Asian': {'Ref/Ref': 0.11646293777777778, 'Alt/Alt': 0.44302336, 'Ref/Alt': 0.45429418666666666}, 'CRM': {'Ref/Ref': 0.11833599999999998, 'Alt/Alt': 0.43033600000000005, 'Ref/Alt': 0.451328}, 'CentralAmerican': {'Ref/Ref': 0.18156120999999997, 'Alt/Alt': 0.32936120999999996, 'Ref/Alt': 0.48907757999999996}, 'Central_South_Asia': {'Ref/Ref': 0.134689, 'Alt/Alt': 0.400689, 'Ref/Alt': 0.464622}, 'Cuban': {'Ref/Ref': 0.12567024999999998, 'Alt/Alt': 0.41667024999999996, 'Ref/Alt': 0.45765949999999994}, 'Danish': {'Ref/Ref': 0.0625, 'Alt/Alt': 0.5625, 'Ref/Alt': 0.375}, 'Dominican': {'Ref/Ref': 0.14807104, 'Alt/Alt': 0.37847104, 'Ref/Alt': 0.4734579199999999}, 'East Asian': {'Ref/Ref': 0.10139978777777779, 'Alt/Alt': 0.4645331211111112, 'Ref/Alt': 0.4340670911111112}, 'Est_Asia': {'Ref/Ref': 0.097969, 'Alt/Alt': 0.4719690000000001, 'Ref/Alt': 0.43006200000000006}, 'Estonian': {'Ref/Ref': 0.08958049000000001, 'Alt/Alt': 0.49098049, 'Ref/Alt': 0.41943902}, 'Europe': {'Ref/Ref': 0.12208036000000003, 'Alt/Alt': 0.42328035999999997, 'Ref/Alt': 0.45463928000000003}, 'European': {'Ref/Ref': 0.10467133737025001, 'Alt/Alt': 0.4662977796, 'Ref/Alt': 0.44185070874000004}, 'Genome of the Netherlands': {'Ref/Ref': 0.11833599999999998, 'Alt/Alt': 0.43033600000000005, 'Ref/Alt': 0.451328}, 'Global': {'Ref/Ref': 0.11328920331360946, 'Alt/Alt': 0.44011997254437873, 'Ref/Alt': 0.44659082414201184}, 'JAPANESE': {'Ref/Ref': 0.10307631302499999, 'Alt/Alt': 0.460966313025, 'Ref/Alt': 0.43595737395}, 'Mexican': {'Ref/Ref': 0.12064507559999998, 'Alt/Alt': 0.4259650756, 'Ref/Alt': 0.4533898488}, 'Middle_Est': {'Ref/Ref': 0.136161, 'Alt/Alt': 0.398161, 'Ref/Alt': 0.465678}, 'NativeAmerican': {'Ref/Ref': 0.12418575999999999, 'Alt/Alt': 0.41938575999999994, 'Ref/Alt': 0.45642847999999997}, 'NativeHawaiian': {'Ref/Ref': 0.22005481000000002, 'Alt/Alt': 0.28185481000000007, 'Ref/Alt': 0.49809038000000005}, 'Oceania': {'Ref/Ref': 0.16000000000000003, 'Alt/Alt': 0.36, 'Ref/Alt': 0.48}, 'Other': {'Ref/Ref': 0.12684282249999998, 'Alt/Alt': 0.39488655999999994, 'Ref/Alt': 0.4476093199999999}, 'PARENT AND CHILD COHORT': {'Ref/Ref': 0.10653696000000001, 'Alt/Alt': 0.45373695999999997, 'Ref/Alt': 0.43972608}, 'PuertoRican': {'Ref/Ref': 0.13111641, 'Alt/Alt': 0.40691641, 'Ref/Alt': 0.46196718}, 'South Asian': {'Ref/Ref': 0.10701621777777778, 'Alt/Alt': 0.4560976225, 'Ref/Alt': 0.44185899333333334}, 'SouthAmerican': {'Ref/Ref': 0.147456, 'Alt/Alt': 0.379456, 'Ref/Alt': 0.473088}, 'SouthAsian': {'Ref/Ref': 0.10692900000000001, 'Alt/Alt': 0.4529290000000001, 'Ref/Alt': 0.44014200000000003}, 'TWIN COHORT': {'Ref/Ref': 0.11580409, 'Alt/Alt': 0.43520408999999993, 'Ref/Alt': 0.44899181999999993}}}\n"
     ]
    }
   ],
   "source": [
    "# Example usage with a DataFrame\n",
    "rs1360780DataResult = Bioparser.splitAlleleToDict(rs1360780Data, 'rs1360780Data')\n",
    "rs3800373DataResult = Bioparser.splitAlleleToDict(rs3800373Data, 'rs1360780Data')\n",
    "rs9296158DataResult = Bioparser.splitAlleleToDict(rs9296158Data, 'rs1360780Data')\n",
    "rs9470080DataResult = Bioparser.splitAlleleToDict(rs9470080Data, 'rs1360780Data')\n",
    "# Print the result in a nicely formatted way\n",
    "# print(json.dumps(rs1360780DataResult, indent=4))\n",
    "# print(json.dumps(rs3800373DataResult, indent=4))\n",
    "# print(json.dumps(rs9296158DataResult, indent=4))\n",
    "# print(json.dumps(rs9470080DataResult, indent=4))\n",
    "print(rs1360780DataResult)\n",
    "print(rs3800373DataResult)\n",
    "print(rs9296158DataResult)\n",
    "print(rs9470080DataResult)"
   ]
  },
  {
   "cell_type": "markdown",
   "metadata": {},
   "source": [
    "### Individual SNP Combinations To PTSD P-Values"
   ]
  },
  {
   "cell_type": "code",
   "execution_count": 11,
   "metadata": {},
   "outputs": [
    {
     "name": "stdout",
     "output_type": "stream",
     "text": [
      "P-values for specific SNP genotype combinations to PTSD:\n",
      "                                                   Combination       P_value\n",
      "0   rs1360780 1:1, rs3800373 1:1, rs9296158 1:1, rs9470080 1:1  3.385781e-07\n",
      "1   rs1360780 1:1, rs3800373 1:1, rs9296158 1:1, rs9470080 1:2  1.219333e-05\n",
      "2   rs1360780 1:1, rs3800373 1:1, rs9296158 1:1, rs9470080 2:2  1.462120e-06\n",
      "3   rs1360780 1:1, rs3800373 1:1, rs9296158 1:2, rs9470080 1:1  8.889484e-05\n",
      "4   rs1360780 1:1, rs3800373 1:1, rs9296158 1:2, rs9470080 1:2  2.187117e-04\n",
      "5   rs1360780 1:1, rs3800373 1:1, rs9296158 1:2, rs9470080 2:2  3.843560e-06\n",
      "6   rs1360780 1:1, rs3800373 1:1, rs9296158 2:2, rs9470080 1:1  7.822273e-01\n",
      "7   rs1360780 1:1, rs3800373 1:1, rs9296158 2:2, rs9470080 1:2  5.802410e-05\n",
      "8   rs1360780 1:1, rs3800373 1:1, rs9296158 2:2, rs9470080 2:2  9.805414e-08\n",
      "9   rs1360780 1:1, rs3800373 1:2, rs9296158 1:1, rs9470080 1:1  1.293572e-05\n",
      "10  rs1360780 1:1, rs3800373 1:2, rs9296158 1:1, rs9470080 1:2  9.835014e-04\n",
      "11  rs1360780 1:1, rs3800373 1:2, rs9296158 1:1, rs9470080 2:2  2.515649e-04\n",
      "12  rs1360780 1:1, rs3800373 1:2, rs9296158 1:2, rs9470080 1:1  2.561619e-04\n",
      "13  rs1360780 1:1, rs3800373 1:2, rs9296158 1:2, rs9470080 1:2  5.567312e-03\n",
      "14  rs1360780 1:1, rs3800373 1:2, rs9296158 1:2, rs9470080 2:2  3.548629e-04\n",
      "15  rs1360780 1:1, rs3800373 1:2, rs9296158 2:2, rs9470080 1:1  8.633514e-05\n",
      "16  rs1360780 1:1, rs3800373 1:2, rs9296158 2:2, rs9470080 1:2  2.817360e-04\n",
      "17  rs1360780 1:1, rs3800373 1:2, rs9296158 2:2, rs9470080 2:2  6.150422e-06\n",
      "18  rs1360780 1:1, rs3800373 2:2, rs9296158 1:1, rs9470080 1:1  3.745913e-06\n",
      "19  rs1360780 1:1, rs3800373 2:2, rs9296158 1:1, rs9470080 1:2  5.290246e-04\n",
      "20  rs1360780 1:1, rs3800373 2:2, rs9296158 1:1, rs9470080 2:2  4.111646e-04\n",
      "21  rs1360780 1:1, rs3800373 2:2, rs9296158 1:2, rs9470080 1:1  1.635390e-05\n",
      "22  rs1360780 1:1, rs3800373 2:2, rs9296158 1:2, rs9470080 1:2  1.078536e-03\n",
      "23  rs1360780 1:1, rs3800373 2:2, rs9296158 1:2, rs9470080 2:2  2.167984e-04\n",
      "24  rs1360780 1:1, rs3800373 2:2, rs9296158 2:2, rs9470080 1:1  6.723478e-07\n",
      "25  rs1360780 1:1, rs3800373 2:2, rs9296158 2:2, rs9470080 1:2  2.324487e-05\n",
      "26  rs1360780 1:1, rs3800373 2:2, rs9296158 2:2, rs9470080 2:2  2.600366e-06\n",
      "27  rs1360780 1:2, rs3800373 1:1, rs9296158 1:1, rs9470080 1:1  1.008451e-04\n",
      "28  rs1360780 1:2, rs3800373 1:1, rs9296158 1:1, rs9470080 1:2  6.888916e-03\n",
      "29  rs1360780 1:2, rs3800373 1:1, rs9296158 1:1, rs9470080 2:2  1.690431e-03\n",
      "30  rs1360780 1:2, rs3800373 1:1, rs9296158 1:2, rs9470080 1:1  1.967538e-03\n",
      "31  rs1360780 1:2, rs3800373 1:1, rs9296158 1:2, rs9470080 1:2  3.865139e-02\n",
      "32  rs1360780 1:2, rs3800373 1:1, rs9296158 1:2, rs9470080 2:2  2.519143e-03\n",
      "33  rs1360780 1:2, rs3800373 1:1, rs9296158 2:2, rs9470080 1:1  6.752410e-04\n",
      "34  rs1360780 1:2, rs3800373 1:1, rs9296158 2:2, rs9470080 1:2  2.154249e-03\n",
      "35  rs1360780 1:2, rs3800373 1:1, rs9296158 2:2, rs9470080 2:2  4.773119e-05\n",
      "36  rs1360780 1:2, rs3800373 1:2, rs9296158 1:1, rs9470080 1:1  7.124811e-03\n",
      "37  rs1360780 1:2, rs3800373 1:2, rs9296158 1:1, rs9470080 1:2  4.814655e-01\n",
      "38  rs1360780 1:2, rs3800373 1:2, rs9296158 1:1, rs9470080 2:2  2.068336e-01\n",
      "39  rs1360780 1:2, rs3800373 1:2, rs9296158 1:2, rs9470080 1:1  4.175093e-02\n",
      "40  rs1360780 1:2, rs3800373 1:2, rs9296158 1:2, rs9470080 1:2  9.964539e-01\n",
      "41  rs1360780 1:2, rs3800373 1:2, rs9296158 1:2, rs9470080 2:2  2.146467e-01\n",
      "42  rs1360780 1:2, rs3800373 1:2, rs9296158 2:2, rs9470080 1:1  2.490182e-03\n",
      "43  rs1360780 1:2, rs3800373 1:2, rs9296158 2:2, rs9470080 1:2  5.537582e-02\n",
      "44  rs1360780 1:2, rs3800373 1:2, rs9296158 2:2, rs9470080 2:2  4.291420e-03\n",
      "45  rs1360780 1:2, rs3800373 2:2, rs9296158 1:1, rs9470080 1:1  3.644187e-03\n",
      "46  rs1360780 1:2, rs3800373 2:2, rs9296158 1:1, rs9470080 1:2  3.666034e-01\n",
      "47  rs1360780 1:2, rs3800373 2:2, rs9296158 1:1, rs9470080 2:2  3.289503e-01\n",
      "48  rs1360780 1:2, rs3800373 2:2, rs9296158 1:2, rs9470080 1:1  7.884876e-03\n",
      "49  rs1360780 1:2, rs3800373 2:2, rs9296158 1:2, rs9470080 1:2  4.870520e-01\n",
      "50  rs1360780 1:2, rs3800373 2:2, rs9296158 1:2, rs9470080 2:2  1.751696e-01\n",
      "51  rs1360780 1:2, rs3800373 2:2, rs9296158 2:2, rs9470080 1:1  1.908235e-04\n",
      "52  rs1360780 1:2, rs3800373 2:2, rs9296158 2:2, rs9470080 1:2  1.234281e-02\n",
      "53  rs1360780 1:2, rs3800373 2:2, rs9296158 2:2, rs9470080 2:2  2.846190e-03\n",
      "54  rs1360780 2:2, rs3800373 1:1, rs9296158 1:1, rs9470080 1:1  1.023732e-04\n",
      "55  rs1360780 2:2, rs3800373 1:1, rs9296158 1:1, rs9470080 1:2  5.819653e-03\n",
      "56  rs1360780 2:2, rs3800373 1:1, rs9296158 1:1, rs9470080 2:2  1.046622e-03\n",
      "57  rs1360780 2:2, rs3800373 1:1, rs9296158 1:2, rs9470080 1:1  2.613318e-03\n",
      "58  rs1360780 2:2, rs3800373 1:1, rs9296158 1:2, rs9470080 1:2  4.101255e-02\n",
      "59  rs1360780 2:2, rs3800373 1:1, rs9296158 1:2, rs9470080 2:2  2.061509e-03\n",
      "60  rs1360780 2:2, rs3800373 1:1, rs9296158 2:2, rs9470080 1:1  1.190801e-03\n",
      "61  rs1360780 2:2, rs3800373 1:1, rs9296158 2:2, rs9470080 1:2  2.745307e-03\n",
      "62  rs1360780 2:2, rs3800373 1:1, rs9296158 2:2, rs9470080 2:2  4.464338e-05\n",
      "63  rs1360780 2:2, rs3800373 1:2, rs9296158 1:1, rs9470080 1:1  6.062203e-03\n",
      "64  rs1360780 2:2, rs3800373 1:2, rs9296158 1:1, rs9470080 1:2  3.815197e-01\n",
      "65  rs1360780 2:2, rs3800373 1:2, rs9296158 1:1, rs9470080 2:2  1.265070e-01\n",
      "66  rs1360780 2:2, rs3800373 1:2, rs9296158 1:2, rs9470080 1:1  4.475517e-02\n",
      "67  rs1360780 2:2, rs3800373 1:2, rs9296158 1:2, rs9470080 1:2  9.729875e-01\n",
      "68  rs1360780 2:2, rs3800373 1:2, rs9296158 1:2, rs9470080 2:2  1.623319e-01\n",
      "69  rs1360780 2:2, rs3800373 1:2, rs9296158 2:2, rs9470080 1:1  3.226833e-03\n",
      "70  rs1360780 2:2, rs3800373 1:2, rs9296158 2:2, rs9470080 1:2  5.742590e-02\n",
      "71  rs1360780 2:2, rs3800373 1:2, rs9296158 2:2, rs9470080 2:2  3.409257e-03\n",
      "72  rs1360780 2:2, rs3800373 2:2, rs9296158 1:1, rs9470080 1:1  2.486134e-03\n",
      "73  rs1360780 2:2, rs3800373 2:2, rs9296158 1:1, rs9470080 1:2  2.458270e-01\n",
      "74  rs1360780 2:2, rs3800373 2:2, rs9296158 1:1, rs9470080 2:2  1.717381e-01\n",
      "75  rs1360780 2:2, rs3800373 2:2, rs9296158 1:2, rs9470080 1:1  6.955871e-03\n",
      "76  rs1360780 2:2, rs3800373 2:2, rs9296158 1:2, rs9470080 1:2  3.973847e-01\n",
      "77  rs1360780 2:2, rs3800373 2:2, rs9296158 1:2, rs9470080 2:2  1.113895e-01\n",
      "78  rs1360780 2:2, rs3800373 2:2, rs9296158 2:2, rs9470080 1:1  1.943280e-04\n",
      "79  rs1360780 2:2, rs3800373 2:2, rs9296158 2:2, rs9470080 1:2  1.052847e-02\n",
      "80  rs1360780 2:2, rs3800373 2:2, rs9296158 2:2, rs9470080 2:2  1.800677e-03\n"
     ]
    }
   ],
   "source": [
    "# Extract counts from the original data\n",
    "usVeteransFKBP5['Count 1:1'] = usVeteransFKBP5['1:1'].str.extract(r'(\\d+)').astype(float)\n",
    "usVeteransFKBP5['Count 1:2'] = usVeteransFKBP5['1:2'].str.extract(r'(\\d+)').astype(float)\n",
    "usVeteransFKBP5['Count 2:2'] = usVeteransFKBP5['2:2'].str.extract(r'(\\d+)').astype(float)\n",
    "\n",
    "# Define SNPs and genotypes\n",
    "snps = ['rs1360780', 'rs3800373', 'rs9296158', 'rs9470080']\n",
    "genotypes = ['1:1', '1:2', '2:2']\n",
    "\n",
    "# Create a dictionary to hold genotype counts for each SNP\n",
    "genotype_counts = {}\n",
    "for snp in snps:\n",
    "    genotype_counts[snp] = {}\n",
    "    for genotype in genotypes:\n",
    "        column_name = f'{snp} {genotype}'\n",
    "        count_column = f'Count {genotype}'\n",
    "        usVeteransFKBP5[column_name] = usVeteransFKBP5.apply(\n",
    "            lambda row: row[count_column] if row['SNP'].startswith(snp) else 0, axis=1)\n",
    "        genotype_counts[snp][genotype] = usVeteransFKBP5.groupby('Group')[\n",
    "            column_name].sum()\n",
    "\n",
    "# Generate all possible genotype combinations\n",
    "combinations = list(product(genotypes, repeat=len(snps)))\n",
    "\n",
    "# Calculate P-value for each combination\n",
    "combination_p_values = []\n",
    "\n",
    "for combination in combinations:\n",
    "    table = []\n",
    "    for group in ['Control', 'PTSD']:\n",
    "        row = []\n",
    "        for snp, genotype in zip(snps, combination):\n",
    "            row.append(genotype_counts[snp][genotype][group])\n",
    "        table.append(row)\n",
    "\n",
    "    # Ensure we have a valid table\n",
    "    if len(table) == 2 and all(len(row) == len(snps) for row in table):\n",
    "        _, p, _, _ = chi2_contingency(table)\n",
    "        combination_str = ', '.join(\n",
    "            [f'{snp} {genotype}' for snp, genotype in zip(snps, combination)])\n",
    "        combination_p_values.append((combination_str, p))\n",
    "\n",
    "# Convert the list of tuples to a DataFrame for better readability\n",
    "combination_p_values_df = pd.DataFrame(\n",
    "    combination_p_values, columns=['Combination', 'P_value'])\n",
    "\n",
    "# Set display options to show all rows and expand columns\n",
    "pd.set_option('display.max_rows', None)\n",
    "pd.set_option('display.max_colwidth', None)\n",
    "\n",
    "# Display the results\n",
    "print(\"P-values for specific SNP genotype combinations to PTSD:\")\n",
    "print(combination_p_values_df)"
   ]
  },
  {
   "cell_type": "markdown",
   "metadata": {},
   "source": [
    "#### Individual SNP Combinations To PTSD With P-Values Under 0.001%"
   ]
  },
  {
   "cell_type": "code",
   "execution_count": 12,
   "metadata": {},
   "outputs": [
    {
     "name": "stdout",
     "output_type": "stream",
     "text": [
      "Significant SNP genotype combinations associated with PTSD (P-value < 0.001):\n",
      "                                                   Combination       P_value\n",
      "8   rs1360780 1:1, rs3800373 1:1, rs9296158 2:2, rs9470080 2:2  0.0000000981\n",
      "0   rs1360780 1:1, rs3800373 1:1, rs9296158 1:1, rs9470080 1:1  0.0000003386\n",
      "24  rs1360780 1:1, rs3800373 2:2, rs9296158 2:2, rs9470080 1:1  0.0000006723\n",
      "2   rs1360780 1:1, rs3800373 1:1, rs9296158 1:1, rs9470080 2:2  0.0000014621\n",
      "26  rs1360780 1:1, rs3800373 2:2, rs9296158 2:2, rs9470080 2:2  0.0000026004\n",
      "18  rs1360780 1:1, rs3800373 2:2, rs9296158 1:1, rs9470080 1:1  0.0000037459\n",
      "5   rs1360780 1:1, rs3800373 1:1, rs9296158 1:2, rs9470080 2:2  0.0000038436\n",
      "17  rs1360780 1:1, rs3800373 1:2, rs9296158 2:2, rs9470080 2:2  0.0000061504\n",
      "1   rs1360780 1:1, rs3800373 1:1, rs9296158 1:1, rs9470080 1:2  0.0000121933\n",
      "9   rs1360780 1:1, rs3800373 1:2, rs9296158 1:1, rs9470080 1:1  0.0000129357\n",
      "21  rs1360780 1:1, rs3800373 2:2, rs9296158 1:2, rs9470080 1:1  0.0000163539\n",
      "25  rs1360780 1:1, rs3800373 2:2, rs9296158 2:2, rs9470080 1:2  0.0000232449\n",
      "62  rs1360780 2:2, rs3800373 1:1, rs9296158 2:2, rs9470080 2:2  0.0000446434\n",
      "35  rs1360780 1:2, rs3800373 1:1, rs9296158 2:2, rs9470080 2:2  0.0000477312\n",
      "7   rs1360780 1:1, rs3800373 1:1, rs9296158 2:2, rs9470080 1:2  0.0000580241\n",
      "15  rs1360780 1:1, rs3800373 1:2, rs9296158 2:2, rs9470080 1:1  0.0000863351\n",
      "3   rs1360780 1:1, rs3800373 1:1, rs9296158 1:2, rs9470080 1:1  0.0000888948\n",
      "27  rs1360780 1:2, rs3800373 1:1, rs9296158 1:1, rs9470080 1:1  0.0001008451\n",
      "54  rs1360780 2:2, rs3800373 1:1, rs9296158 1:1, rs9470080 1:1  0.0001023732\n",
      "51  rs1360780 1:2, rs3800373 2:2, rs9296158 2:2, rs9470080 1:1  0.0001908235\n",
      "78  rs1360780 2:2, rs3800373 2:2, rs9296158 2:2, rs9470080 1:1  0.0001943280\n",
      "23  rs1360780 1:1, rs3800373 2:2, rs9296158 1:2, rs9470080 2:2  0.0002167984\n",
      "4   rs1360780 1:1, rs3800373 1:1, rs9296158 1:2, rs9470080 1:2  0.0002187117\n",
      "11  rs1360780 1:1, rs3800373 1:2, rs9296158 1:1, rs9470080 2:2  0.0002515649\n",
      "12  rs1360780 1:1, rs3800373 1:2, rs9296158 1:2, rs9470080 1:1  0.0002561619\n",
      "16  rs1360780 1:1, rs3800373 1:2, rs9296158 2:2, rs9470080 1:2  0.0002817360\n",
      "14  rs1360780 1:1, rs3800373 1:2, rs9296158 1:2, rs9470080 2:2  0.0003548629\n",
      "20  rs1360780 1:1, rs3800373 2:2, rs9296158 1:1, rs9470080 2:2  0.0004111646\n",
      "19  rs1360780 1:1, rs3800373 2:2, rs9296158 1:1, rs9470080 1:2  0.0005290246\n",
      "33  rs1360780 1:2, rs3800373 1:1, rs9296158 2:2, rs9470080 1:1  0.0006752410\n",
      "10  rs1360780 1:1, rs3800373 1:2, rs9296158 1:1, rs9470080 1:2  0.0009835014\n"
     ]
    }
   ],
   "source": [
    "# Ensure the P_value column is in float format before applying any formatting\n",
    "combination_p_values_df['P_value'] = combination_p_values_df['P_value'].astype(float)\n",
    "# Convert p-values from scientific notation to decimal format\n",
    "combination_p_values_df['P_value'] = combination_p_values_df['P_value'].apply(lambda x: '{:.10f}'.format(x))\n",
    "# Filter for combinations with P-value < 0.001\n",
    "significant_combinations_0_001 = combination_p_values_df[combination_p_values_df['P_value'].astype(float) < 0.001]\n",
    "# Sort the significant combinations from most to least significant\n",
    "significant_combinations_0_001 = significant_combinations_0_001.sort_values(by='P_value', ascending=True)\n",
    "# Display the significant combinations with threshold 0.001\n",
    "print(\"Significant SNP genotype combinations associated with PTSD (P-value < 0.001):\")\n",
    "print(significant_combinations_0_001)"
   ]
  },
  {
   "cell_type": "markdown",
   "metadata": {},
   "source": [
    "### P-Value For Trauma To PTSD"
   ]
  },
  {
   "cell_type": "code",
   "execution_count": 14,
   "metadata": {},
   "outputs": [
    {
     "name": "stdout",
     "output_type": "stream",
     "text": [
      "P-value for Trauma to PTSD: 0.07388457141281733\n"
     ]
    }
   ],
   "source": [
    "# Ensure the traumaCategory and PTSDCategory columns exist in ptsdWorldMentalHealthSurveyCopy\n",
    "ptsdWorldMentalHealthSurveyCopy['traumaCategory'] = pd.cut(ptsdWorldMentalHealthSurveyCopy['Trauma exposure (%)'], bins=[-1, 55, 70, float('inf')], labels=['Low Trauma', 'Moderate Trauma', 'High Trauma']).astype(str)\n",
    "ptsdWorldMentalHealthSurveyCopy['PTSDCategory'] = pd.cut(ptsdWorldMentalHealthSurveyCopy['Lifetime prevalence of PTSD in total sample (%)'], bins=[-1, 2.7, 5.3, float('inf')], labels=['Low PTSD', 'Moderate PTSD', 'High PTSD']).astype(str)\n",
    "# Create a contingency table for trauma exposure and PTSD categories\n",
    "trauma_ptsd_table = pd.crosstab(ptsdWorldMentalHealthSurveyCopy['traumaCategory'], ptsdWorldMentalHealthSurveyCopy['PTSDCategory'])\n",
    "# Perform chi-square test\n",
    "chi2_trauma_ptsd, p_trauma_ptsd, _, _ = chi2_contingency(trauma_ptsd_table)\n",
    "print(f\"P-value for Trauma to PTSD: {p_trauma_ptsd}\")"
   ]
  },
  {
   "cell_type": "markdown",
   "metadata": {},
   "source": [
    "### P-Value Of PTSD And Combat Experience"
   ]
  },
  {
   "cell_type": "code",
   "execution_count": 15,
   "metadata": {},
   "outputs": [
    {
     "data": {
      "text/plain": [
       "8.967865950885864e-11"
      ]
     },
     "execution_count": 15,
     "metadata": {},
     "output_type": "execute_result"
    }
   ],
   "source": [
    "n_obs = 1000\n",
    "# Number of soldiers with PTSD and combat experience\n",
    "count = int(0.39 * n_obs)\n",
    "# Hypothesized proportion of soldiers with combat experience in the general soldier population\n",
    "# This can be adjusted based on actual data or different assumptions\n",
    "hypothetical_proportion = 0.29\n",
    "# Perform Z-test for single proportions\n",
    "stat, p_value = proportions_ztest(count, n_obs, hypothetical_proportion)\n",
    "p_value"
   ]
  },
  {
   "cell_type": "markdown",
   "metadata": {},
   "source": [
    "# Applied Logistic Regression Model"
   ]
  },
  {
   "cell_type": "code",
   "execution_count": 16,
   "metadata": {},
   "outputs": [
    {
     "name": "stdout",
     "output_type": "stream",
     "text": [
      "Training Accuracy: 1.0\n",
      "Testing Accuracy: 0.8\n",
      "\n",
      "Allele combinations sorted by PTSD probability (from highest to lowest):\n",
      "('1:2', '1:1', '1:1', '1:2'): 0.64\n",
      "('1:2', '1:1', '1:1', '2:2'): 0.64\n",
      "('1:2', '1:1', '1:1', '1:1'): 0.58\n",
      "('1:2', '1:2', '1:1', '2:2'): 0.58\n",
      "('1:2', '2:2', '1:1', '2:2'): 0.53\n",
      "('1:2', '1:2', '1:1', '1:2'): 0.50\n",
      "('2:2', '1:2', '1:1', '2:2'): 0.49\n",
      "('1:2', '1:2', '1:1', '1:1'): 0.47\n",
      "('1:2', '2:2', '1:1', '1:2'): 0.46\n",
      "('2:2', '1:1', '1:1', '2:2'): 0.45\n",
      "('1:2', '2:2', '1:1', '1:1'): 0.44\n",
      "('2:2', '2:2', '1:1', '2:2'): 0.44\n",
      "('1:1', '1:2', '1:1', '2:2'): 0.43\n",
      "('1:1', '1:1', '1:1', '2:2'): 0.41\n",
      "('1:1', '2:2', '1:1', '2:2'): 0.40\n",
      "('1:2', '1:1', '1:2', '1:2'): 0.40\n",
      "('1:2', '1:1', '1:2', '2:2'): 0.40\n",
      "('2:2', '1:2', '1:1', '1:1'): 0.39\n",
      "('2:2', '2:2', '2:2', '2:2'): 0.39\n",
      "('2:2', '1:1', '1:1', '1:1'): 0.37\n",
      "('1:2', '1:1', '2:2', '2:2'): 0.36\n",
      "('2:2', '2:2', '1:1', '1:1'): 0.36\n",
      "('1:1', '1:2', '1:1', '1:1'): 0.35\n",
      "('1:2', '1:1', '1:2', '1:1'): 0.35\n",
      "('1:2', '1:1', '2:2', '1:2'): 0.35\n",
      "('2:2', '1:1', '1:1', '1:2'): 0.35\n",
      "('2:2', '1:2', '1:1', '1:2'): 0.35\n",
      "('2:2', '1:2', '1:2', '2:2'): 0.35\n",
      "('1:1', '2:2', '1:1', '1:1'): 0.34\n",
      "('1:2', '2:2', '2:2', '2:2'): 0.34\n",
      "('1:2', '1:2', '1:2', '2:2'): 0.33\n",
      "('2:2', '1:2', '2:2', '2:2'): 0.33\n",
      "('1:1', '1:1', '1:1', '1:1'): 0.32\n",
      "('1:1', '1:2', '1:1', '1:2'): 0.32\n",
      "('1:2', '1:2', '2:2', '2:2'): 0.32\n",
      "('1:2', '2:2', '1:2', '2:2'): 0.31\n",
      "('2:2', '1:1', '1:2', '2:2'): 0.31\n",
      "('2:2', '2:2', '1:1', '1:2'): 0.31\n",
      "('2:2', '2:2', '1:2', '2:2'): 0.31\n",
      "('1:1', '2:2', '1:1', '1:2'): 0.30\n",
      "('1:1', '2:2', '2:2', '2:2'): 0.30\n",
      "('1:2', '1:1', '2:2', '1:1'): 0.30\n",
      "('1:2', '2:2', '2:2', '1:2'): 0.30\n",
      "('1:1', '1:1', '1:1', '1:2'): 0.29\n",
      "('1:1', '1:2', '1:2', '2:2'): 0.28\n",
      "('1:1', '1:1', '1:2', '2:2'): 0.27\n",
      "('1:1', '1:2', '2:2', '2:2'): 0.27\n",
      "('2:2', '2:2', '2:2', '1:1'): 0.27\n",
      "('2:2', '1:1', '2:2', '2:2'): 0.26\n",
      "('1:1', '2:2', '1:2', '2:2'): 0.25\n",
      "('1:2', '1:2', '1:2', '1:2'): 0.25\n",
      "('1:2', '1:2', '2:2', '1:2'): 0.25\n",
      "('1:2', '2:2', '2:2', '1:1'): 0.25\n",
      "('2:2', '2:2', '2:2', '1:2'): 0.25\n",
      "('1:1', '2:2', '2:2', '1:1'): 0.24\n",
      "('1:2', '2:2', '1:2', '1:2'): 0.23\n",
      "('1:1', '2:2', '2:2', '1:2'): 0.22\n",
      "('2:2', '1:1', '1:2', '1:1'): 0.22\n",
      "('2:2', '1:1', '1:2', '1:2'): 0.22\n",
      "('2:2', '1:2', '1:2', '1:1'): 0.22\n",
      "('2:2', '1:2', '1:2', '1:2'): 0.22\n",
      "('2:2', '1:2', '2:2', '1:1'): 0.21\n",
      "('1:1', '1:1', '1:2', '1:1'): 0.20\n",
      "('1:1', '1:1', '2:2', '2:2'): 0.20\n",
      "('1:2', '2:2', '1:2', '1:1'): 0.20\n",
      "('2:2', '1:2', '2:2', '1:2'): 0.20\n",
      "('1:1', '1:1', '1:2', '1:2'): 0.19\n",
      "('1:1', '1:2', '1:2', '1:1'): 0.19\n",
      "('1:1', '1:2', '1:2', '1:2'): 0.19\n",
      "('1:1', '1:2', '2:2', '1:1'): 0.19\n",
      "('1:2', '1:2', '1:2', '1:1'): 0.19\n",
      "('2:2', '1:1', '2:2', '1:1'): 0.19\n",
      "('2:2', '2:2', '1:2', '1:1'): 0.19\n",
      "('1:2', '1:2', '2:2', '1:1'): 0.18\n",
      "('2:2', '1:1', '2:2', '1:2'): 0.18\n",
      "('1:1', '2:2', '1:2', '1:1'): 0.17\n",
      "('2:2', '2:2', '1:2', '1:2'): 0.17\n",
      "('1:1', '1:2', '2:2', '1:2'): 0.16\n",
      "('1:1', '2:2', '1:2', '1:2'): 0.16\n",
      "('1:1', '1:1', '2:2', '1:1'): 0.15\n",
      "('1:1', '1:1', '2:2', '1:2'): 0.13\n",
      "\n",
      "Predicted probability of PTSD for the given gene alleles (1:2, 1:1, 2:2, 1:1): 0.30\n"
     ]
    }
   ],
   "source": [
    "np.random.seed(42)\n",
    "\n",
    "# Generating more complex synthetic data\n",
    "nSamples = 100\n",
    "# Creating random frequencies for genotypes, introducing some noise\n",
    "syntheticGenotypeFrequencies = np.random.randint(100, 2000, size=(\n",
    "    nSamples, 4*3)) + np.random.normal(0, 100, (nSamples, 4*3))\n",
    "\n",
    "# Normalizing genotype frequencies to make them resemble probabilities\n",
    "scaler = MinMaxScaler()\n",
    "syntheticGenotypeProbabilities = scaler.fit_transform(\n",
    "    syntheticGenotypeFrequencies)\n",
    "\n",
    "# Use a more complex model to generate the target variable, mixing influences from multiple SNPs\n",
    "influenceWeights = np.random.rand(12)  # Random weights for each genotype\n",
    "syntheticTarget = (np.dot(syntheticGenotypeProbabilities, influenceWeights) > np.median(\n",
    "    np.dot(syntheticGenotypeProbabilities, influenceWeights))).astype(int)\n",
    "\n",
    "# Feature names for each SNP and genotype\n",
    "featureNames = []\n",
    "snps = ['rs1360780', 'rs3800373', 'rs9296158', 'rs9470080']\n",
    "genotypes = ['1:1', '1:2', '2:2']\n",
    "for snp in snps:\n",
    "    for genotype in genotypes:\n",
    "        featureNames.append(f\"{snp} {genotype}\")\n",
    "\n",
    "# Create a DataFrame for the synthetic dataset\n",
    "syntheticData= pd.DataFrame(\n",
    "    syntheticGenotypeProbabilities, columns=featureNames)\n",
    "syntheticData['PTSD_Likelihood'] = syntheticTarget\n",
    "\n",
    "# Splitting the synthetic data\n",
    "X_synthetic = syntheticData.drop('PTSD_Likelihood', axis=1)\n",
    "y_synthetic = syntheticData['PTSD_Likelihood']\n",
    "X_train_syn, X_test_syn, y_train_syn, y_test_syn = train_test_split(\n",
    "    X_synthetic, y_synthetic, test_size=0.3, random_state=42)\n",
    "\n",
    "# Training a Random Forest model\n",
    "model_rf_synthetic = RandomForestClassifier(n_estimators=100, random_state=42)\n",
    "model_rf_synthetic.fit(X_train_syn, y_train_syn)\n",
    "\n",
    "# Evaluating el model\n",
    "train_accuracy_rf_syn = model_rf_synthetic.score(X_train_syn, y_train_syn)\n",
    "test_accuracy_rf_syn = model_rf_synthetic.score(X_test_syn, y_test_syn)\n",
    "\n",
    "print(\"Training Accuracy:\", train_accuracy_rf_syn)\n",
    "print(\"Testing Accuracy:\", test_accuracy_rf_syn)\n",
    "\n",
    "# Function to predict PTSD probability given specific gene alleles\n",
    "\n",
    "\n",
    "def predict_ptsd_probability(rs1360780, rs3800373, rs9296158, rs9470080):\n",
    "    patientData = {\n",
    "        'rs1360780 1:1': 1 if rs1360780 == '1:1' else 0,\n",
    "        'rs1360780 1:2': 1 if rs1360780 == '1:2' else 0,\n",
    "        'rs1360780 2:2': 1 if rs1360780 == '2:2' else 0,\n",
    "        'rs3800373 1:1': 1 if rs3800373 == '1:1' else 0,\n",
    "        'rs3800373 1:2': 1 if rs3800373 == '1:2' else 0,\n",
    "        'rs3800373 2:2': 1 if rs3800373 == '2:2' else 0,\n",
    "        'rs9296158 1:1': 1 if rs9296158 == '1:1' else 0,\n",
    "        'rs9296158 1:2': 1 if rs9296158 == '1:2' else 0,\n",
    "        'rs9296158 2:2': 1 if rs9296158 == '2:2' else 0,\n",
    "        'rs9470080 1:1': 1 if rs9470080 == '1:1' else 0,\n",
    "        'rs9470080 1:2': 1 if rs9470080 == '1:2' else 0,\n",
    "        'rs9470080 2:2': 1 if rs9470080 == '2:2' else 0\n",
    "    }\n",
    "    # Convert patientData into DataFrame to be used with the trained model\n",
    "    # [patientData] wraps the dictionary to form a single row DataFrame\n",
    "    new_patient_df = pd.DataFrame([patientData])\n",
    "    probabilities = model_rf_synthetic.predict_proba(new_patient_df)\n",
    "    return probabilities[0][1]  # Probability of PTSD\n",
    "\n",
    "\n",
    "# Generate all possible combinations of alleles for the 4 SNPs\n",
    "allele_combinations = list(product(genotypes, repeat=4))\n",
    "\n",
    "# Calculate the PTSD probability for each combination\n",
    "probabilities = []\n",
    "for combination in allele_combinations:\n",
    "    rs1360780, rs3800373, rs9296158, rs9470080 = combination\n",
    "    prob = predict_ptsd_probability(rs1360780, rs3800373, rs9296158, rs9470080)\n",
    "    probabilities.append((combination, prob))\n",
    "\n",
    "# Sort combinations by predicted PTSD probability in descending order\n",
    "sorted_probabilities = sorted(probabilities, key=lambda x: x[1], reverse=True)\n",
    "\n",
    "# Display the sorted combinations with their probabilities\n",
    "print(\"\\nAllele combinations sorted by PTSD probability (from highest to lowest):\")\n",
    "for combination, prob in sorted_probabilities:\n",
    "    print(f\"{combination}: {prob:.2f}\")\n",
    "\n",
    "# Example usage of the function\n",
    "rs1360780 = '1:2'\n",
    "rs3800373 = '1:1'\n",
    "rs9296158 = '2:2'\n",
    "rs9470080 = '1:1'\n",
    "probability_of_ptsd = predict_ptsd_probability(rs1360780, rs3800373, rs9296158, rs9470080)\n",
    "print(f\"\\nPredicted probability of PTSD for the given gene alleles ({rs1360780}, {rs3800373}, {rs9296158}, {rs9470080}): {probability_of_ptsd:.2f}\")"
   ]
  },
  {
   "cell_type": "markdown",
   "metadata": {},
   "source": [
    "# Reference Notes\n",
    "1. Declaring comments within each CSV via the `comment=` command.\n",
    "2. TSV files can be read via the CSV reader, however they must delineate that the columns are separated by tabs rather than commas via the `sep='\\t'` command. Likewise we are skipping the first 12 rows of the referenced file due to the odd file structure and are setting the header to the index of line we just skipped, which in our case would be 0.\n",
    "3. CSV parameter low memory was set to false in order to resolve mixed type issue occurring due to file being processed in chunks rather than a whole."
   ]
  }
 ],
 "metadata": {
  "kernelspec": {
   "display_name": "base",
   "language": "python",
   "name": "python3"
  },
  "language_info": {
   "codemirror_mode": {
    "name": "ipython",
    "version": 3
   },
   "file_extension": ".py",
   "mimetype": "text/x-python",
   "name": "python",
   "nbconvert_exporter": "python",
   "pygments_lexer": "ipython3",
   "version": "3.11.7"
  }
 },
 "nbformat": 4,
 "nbformat_minor": 2
}
